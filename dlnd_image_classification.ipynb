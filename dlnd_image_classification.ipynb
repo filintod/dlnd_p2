{
 "cells": [
  {
   "cell_type": "markdown",
   "metadata": {
    "collapsed": true,
    "deletable": true,
    "editable": true
   },
   "source": [
    "# Image Classification\n",
    "In this project, you'll classify images from the [CIFAR-10 dataset](https://www.cs.toronto.edu/~kriz/cifar.html).  The dataset consists of airplanes, dogs, cats, and other objects. You'll preprocess the images, then train a convolutional neural network on all the samples. The images need to be normalized and the labels need to be one-hot encoded.  You'll get to apply what you learned and build a convolutional, max pooling, dropout, and fully connected layers.  At the end, you'll get to see your neural network's predictions on the sample images.\n",
    "## Get the Data\n",
    "Run the following cell to download the [CIFAR-10 dataset for python](https://www.cs.toronto.edu/~kriz/cifar-10-python.tar.gz)."
   ]
  },
  {
   "cell_type": "code",
   "execution_count": 1,
   "metadata": {
    "collapsed": false,
    "deletable": true,
    "editable": true
   },
   "outputs": [
    {
     "name": "stdout",
     "output_type": "stream",
     "text": [
      "All files found!\n"
     ]
    }
   ],
   "source": [
    "\"\"\"\n",
    "DON'T MODIFY ANYTHING IN THIS CELL THAT IS BELOW THIS LINE\n",
    "\"\"\"\n",
    "from urllib.request import urlretrieve\n",
    "from os.path import isfile, isdir\n",
    "from tqdm import tqdm\n",
    "import problem_unittests as tests\n",
    "import tarfile\n",
    "\n",
    "cifar10_dataset_folder_path = 'cifar-10-batches-py'\n",
    "\n",
    "# Use Floyd's cifar-10 dataset if present\n",
    "floyd_cifar10_location = '/input/cifar-10/python.tar.gz'\n",
    "if isfile(floyd_cifar10_location):\n",
    "    tar_gz_path = floyd_cifar10_location\n",
    "else:\n",
    "    tar_gz_path = 'cifar-10-python.tar.gz'\n",
    "\n",
    "class DLProgress(tqdm):\n",
    "    last_block = 0\n",
    "\n",
    "    def hook(self, block_num=1, block_size=1, total_size=None):\n",
    "        self.total = total_size\n",
    "        self.update((block_num - self.last_block) * block_size)\n",
    "        self.last_block = block_num\n",
    "\n",
    "if not isfile(tar_gz_path):\n",
    "    with DLProgress(unit='B', unit_scale=True, miniters=1, desc='CIFAR-10 Dataset') as pbar:\n",
    "        urlretrieve(\n",
    "            'https://www.cs.toronto.edu/~kriz/cifar-10-python.tar.gz',\n",
    "            tar_gz_path,\n",
    "            pbar.hook)\n",
    "\n",
    "if not isdir(cifar10_dataset_folder_path):\n",
    "    with tarfile.open(tar_gz_path) as tar:\n",
    "        tar.extractall()\n",
    "        tar.close()\n",
    "\n",
    "\n",
    "tests.test_folder_path(cifar10_dataset_folder_path)"
   ]
  },
  {
   "cell_type": "markdown",
   "metadata": {
    "deletable": true,
    "editable": true
   },
   "source": [
    "## Explore the Data\n",
    "The dataset is broken into batches to prevent your machine from running out of memory.  The CIFAR-10 dataset consists of 5 batches, named `data_batch_1`, `data_batch_2`, etc.. Each batch contains the labels and images that are one of the following:\n",
    "* airplane\n",
    "* automobile\n",
    "* bird\n",
    "* cat\n",
    "* deer\n",
    "* dog\n",
    "* frog\n",
    "* horse\n",
    "* ship\n",
    "* truck\n",
    "\n",
    "Understanding a dataset is part of making predictions on the data.  Play around with the code cell below by changing the `batch_id` and `sample_id`. The `batch_id` is the id for a batch (1-5). The `sample_id` is the id for a image and label pair in the batch.\n",
    "\n",
    "Ask yourself \"What are all possible labels?\", \"What is the range of values for the image data?\", \"Are the labels in order or random?\".  Answers to questions like these will help you preprocess the data and end up with better predictions."
   ]
  },
  {
   "cell_type": "code",
   "execution_count": 2,
   "metadata": {
    "collapsed": false,
    "deletable": true,
    "editable": true
   },
   "outputs": [
    {
     "name": "stdout",
     "output_type": "stream",
     "text": [
      "\n",
      "Stats of batch 3:\n",
      "Samples: 10000\n",
      "Label Counts: {0: 994, 1: 1042, 2: 965, 3: 997, 4: 990, 5: 1029, 6: 978, 7: 1015, 8: 961, 9: 1029}\n",
      "First 20 Labels: [8, 5, 0, 6, 9, 2, 8, 3, 6, 2, 7, 4, 6, 9, 0, 0, 7, 3, 7, 2]\n",
      "\n",
      "Example of Image 5:\n",
      "Image - Min Value: 9 Max Value: 255\n",
      "Image - Shape: (32, 32, 3)\n",
      "Label - Label Id: 2 Name: bird\n"
     ]
    },
    {
     "data": {
      "image/png": "[encoded data removed]",
      "text/plain": [
       "<matplotlib.figure.Figure at 0x7f03669d6b70>"
      ]
     },
     "metadata": {
      "image/png": {
       "height": 250,
       "width": 253
      }
     },
     "output_type": "display_data"
    }
   ],
   "source": [
    "%matplotlib inline\n",
    "%config InlineBackend.figure_format = 'retina'\n",
    "\n",
    "import helper\n",
    "import numpy as np\n",
    "\n",
    "# Explore the dataset\n",
    "batch_id = 3\n",
    "sample_id = 5\n",
    "\n",
    "helper.display_stats(cifar10_dataset_folder_path, batch_id, sample_id)"
   ]
  },
  {
   "cell_type": "markdown",
   "metadata": {
    "deletable": true,
    "editable": true
   },
   "source": [
    "## Implement Preprocess Functions\n",
    "### Normalize\n",
    "In the cell below, implement the `normalize` function to take in image data, `x`, and return it as a normalized Numpy array. The values should be in the range of 0 to 1, inclusive.  The return object should be the same shape as `x`."
   ]
  },
  {
   "cell_type": "code",
   "execution_count": 3,
   "metadata": {
    "collapsed": false,
    "deletable": true,
    "editable": true
   },
   "outputs": [
    {
     "name": "stdout",
     "output_type": "stream",
     "text": [
      "Tests Passed\n"
     ]
    }
   ],
   "source": [
    "def normalize(x):\n",
    "    \"\"\"\n",
    "    Normalize a list of sample image data in the range of 0 to 1\n",
    "    : x: List of image data.  The image shape is (32, 32, 3)\n",
    "    : return: Numpy array of normalize data\n",
    "    \"\"\"\n",
    "    # TODO: Implement Function\n",
    "    \n",
    "    return (x - x.min()) / (x.max() - x.min())\n",
    "\n",
    "\n",
    "\"\"\"\n",
    "DON'T MODIFY ANYTHING IN THIS CELL THAT IS BELOW THIS LINE\n",
    "\"\"\"\n",
    "tests.test_normalize(normalize)"
   ]
  },
  {
   "cell_type": "markdown",
   "metadata": {
    "deletable": true,
    "editable": true
   },
   "source": [
    "### One-hot encode\n",
    "Just like the previous code cell, you'll be implementing a function for preprocessing.  This time, you'll implement the `one_hot_encode` function. The input, `x`, are a list of labels.  Implement the function to return the list of labels as One-Hot encoded Numpy array.  The possible values for labels are 0 to 9. The one-hot encoding function should return the same encoding for each value between each call to `one_hot_encode`.  Make sure to save the map of encodings outside the function.\n",
    "\n",
    "Hint: Don't reinvent the wheel."
   ]
  },
  {
   "cell_type": "code",
   "execution_count": 4,
   "metadata": {
    "collapsed": false,
    "deletable": true,
    "editable": true
   },
   "outputs": [
    {
     "data": {
      "text/plain": [
       "LabelBinarizer(neg_label=0, pos_label=1, sparse_output=False)"
      ]
     },
     "execution_count": 4,
     "metadata": {},
     "output_type": "execute_result"
    }
   ],
   "source": [
    "from sklearn.preprocessing import LabelBinarizer\n",
    "label_binarizer = LabelBinarizer()\n",
    "label_binarizer.fit(range(10))"
   ]
  },
  {
   "cell_type": "code",
   "execution_count": 5,
   "metadata": {
    "collapsed": false,
    "deletable": true,
    "editable": true
   },
   "outputs": [
    {
     "name": "stdout",
     "output_type": "stream",
     "text": [
      "Tests Passed\n"
     ]
    }
   ],
   "source": [
    "def one_hot_encode(x):\n",
    "    \"\"\"\n",
    "    One hot encode a list of sample labels. Return a one-hot encoded vector for each label.\n",
    "    : x: List of sample Labels\n",
    "    : return: Numpy array of one-hot encoded labels\n",
    "    \"\"\"\n",
    "    return label_binarizer.transform(x)\n",
    "\n",
    "\"\"\"\n",
    "DON'T MODIFY ANYTHING IN THIS CELL THAT IS BELOW THIS LINE\n",
    "\"\"\"\n",
    "tests.test_one_hot_encode(one_hot_encode)"
   ]
  },
  {
   "cell_type": "markdown",
   "metadata": {
    "deletable": true,
    "editable": true
   },
   "source": [
    "### Randomize Data\n",
    "As you saw from exploring the data above, the order of the samples are randomized.  It doesn't hurt to randomize it again, but you don't need to for this dataset."
   ]
  },
  {
   "cell_type": "markdown",
   "metadata": {
    "deletable": true,
    "editable": true
   },
   "source": [
    "## Preprocess all the data and save it\n",
    "Running the code cell below will preprocess all the CIFAR-10 data and save it to file. The code below also uses 10% of the training data for validation."
   ]
  },
  {
   "cell_type": "code",
   "execution_count": 6,
   "metadata": {
    "collapsed": false,
    "deletable": true,
    "editable": true
   },
   "outputs": [],
   "source": [
    "\"\"\"\n",
    "DON'T MODIFY ANYTHING IN THIS CELL\n",
    "\"\"\"\n",
    "# Preprocess Training, Validation, and Testing Data\n",
    "helper.preprocess_and_save_data(cifar10_dataset_folder_path, normalize, one_hot_encode)"
   ]
  },
  {
   "cell_type": "markdown",
   "metadata": {
    "deletable": true,
    "editable": true
   },
   "source": [
    "# Check Point\n",
    "This is your first checkpoint.  If you ever decide to come back to this notebook or have to restart the notebook, you can start from here.  The preprocessed data has been saved to disk."
   ]
  },
  {
   "cell_type": "code",
   "execution_count": 2,
   "metadata": {
    "collapsed": true,
    "deletable": true,
    "editable": true
   },
   "outputs": [],
   "source": [
    "\"\"\"\n",
    "DON'T MODIFY ANYTHING IN THIS CELL\n",
    "\"\"\"\n",
    "import pickle\n",
    "import problem_unittests as tests\n",
    "import helper\n",
    "import numpy as np\n",
    "import tensorflow as tf\n",
    "\n",
    "# Load the Preprocessed Validation data\n",
    "valid_features, valid_labels = pickle.load(open('preprocess_validation.p', mode='rb'))"
   ]
  },
  {
   "cell_type": "markdown",
   "metadata": {
    "deletable": true,
    "editable": true
   },
   "source": [
    "## Build the network\n",
    "For the neural network, you'll build each layer into a function.  Most of the code you've seen has been outside of functions. To test your code more thoroughly, we require that you put each layer in a function.  This allows us to give you better feedback and test for simple mistakes using our unittests before you submit your project.\n",
    "\n",
    ">**Note:** If you're finding it hard to dedicate enough time for this course each week, we've provided a small shortcut to this part of the project. In the next couple of problems, you'll have the option to use classes from the [TensorFlow Layers](https://www.tensorflow.org/api_docs/python/tf/layers) or [TensorFlow Layers (contrib)](https://www.tensorflow.org/api_guides/python/contrib.layers) packages to build each layer, except the layers you build in the \"Convolutional and Max Pooling Layer\" section.  TF Layers is similar to Keras's and TFLearn's abstraction to layers, so it's easy to pickup.\n",
    "\n",
    ">However, if you would like to get the most out of this course, try to solve all the problems _without_ using anything from the TF Layers packages. You **can** still use classes from other packages that happen to have the same name as ones you find in TF Layers! For example, instead of using the TF Layers version of the `conv2d` class, [tf.layers.conv2d](https://www.tensorflow.org/api_docs/python/tf/layers/conv2d), you would want to use the TF Neural Network version of `conv2d`, [tf.nn.conv2d](https://www.tensorflow.org/api_docs/python/tf/nn/conv2d). \n",
    "\n",
    "Let's begin!\n",
    "\n",
    "### Input\n",
    "The neural network needs to read the image data, one-hot encoded labels, and dropout keep probability. Implement the following functions\n",
    "* Implement `neural_net_image_input`\n",
    " * Return a [TF Placeholder](https://www.tensorflow.org/api_docs/python/tf/placeholder)\n",
    " * Set the shape using `image_shape` with batch size set to `None`.\n",
    " * Name the TensorFlow placeholder \"x\" using the TensorFlow `name` parameter in the [TF Placeholder](https://www.tensorflow.org/api_docs/python/tf/placeholder).\n",
    "* Implement `neural_net_label_input`\n",
    " * Return a [TF Placeholder](https://www.tensorflow.org/api_docs/python/tf/placeholder)\n",
    " * Set the shape using `n_classes` with batch size set to `None`.\n",
    " * Name the TensorFlow placeholder \"y\" using the TensorFlow `name` parameter in the [TF Placeholder](https://www.tensorflow.org/api_docs/python/tf/placeholder).\n",
    "* Implement `neural_net_keep_prob_input`\n",
    " * Return a [TF Placeholder](https://www.tensorflow.org/api_docs/python/tf/placeholder) for dropout keep probability.\n",
    " * Name the TensorFlow placeholder \"keep_prob\" using the TensorFlow `name` parameter in the [TF Placeholder](https://www.tensorflow.org/api_docs/python/tf/placeholder).\n",
    "\n",
    "These names will be used at the end of the project to load your saved model.\n",
    "\n",
    "Note: `None` for shapes in TensorFlow allow for a dynamic size."
   ]
  },
  {
   "cell_type": "code",
   "execution_count": 3,
   "metadata": {
    "collapsed": false,
    "deletable": true,
    "editable": true
   },
   "outputs": [
    {
     "name": "stdout",
     "output_type": "stream",
     "text": [
      "Image Input Tests Passed.\n",
      "Label Input Tests Passed.\n",
      "Keep Prob Tests Passed.\n"
     ]
    }
   ],
   "source": [
    "import tensorflow as tf\n",
    "\n",
    "def neural_net_image_input(image_shape):\n",
    "    \"\"\"\n",
    "    Return a Tensor for a batch of image input\n",
    "    : image_shape: Shape of the images\n",
    "    : return: Tensor for image input.\n",
    "    \"\"\"\n",
    "    return tf.placeholder(tf.float32, (None,) + image_shape, name='x')\n",
    "\n",
    "\n",
    "def neural_net_label_input(n_classes):\n",
    "    \"\"\"\n",
    "    Return a Tensor for a batch of label input\n",
    "    : n_classes: Number of classes\n",
    "    : return: Tensor for label input.\n",
    "    \"\"\"\n",
    "    return tf.placeholder(tf.float32, [None, n_classes], name='y')\n",
    "\n",
    "\n",
    "def neural_net_keep_prob_input():\n",
    "    \"\"\"\n",
    "    Return a Tensor for keep probability\n",
    "    : return: Tensor for keep probability.\n",
    "    \"\"\"\n",
    "    return tf.placeholder(tf.float32, name='keep_prob')\n",
    "\n",
    "\"\"\"\n",
    "DON'T MODIFY ANYTHING IN THIS CELL THAT IS BELOW THIS LINE\n",
    "\"\"\"\n",
    "dir()\n",
    "tf.reset_default_graph()\n",
    "tests.test_nn_image_inputs(neural_net_image_input)\n",
    "tests.test_nn_label_inputs(neural_net_label_input)\n",
    "tests.test_nn_keep_prob_inputs(neural_net_keep_prob_input)"
   ]
  },
  {
   "cell_type": "markdown",
   "metadata": {
    "deletable": true,
    "editable": true
   },
   "source": [
    "### Convolution and Max Pooling Layer\n",
    "Convolution layers have a lot of success with images. For this code cell, you should implement the function `conv2d_maxpool` to apply convolution then max pooling:\n",
    "* Create the weight and bias using `conv_ksize`, `conv_num_outputs` and the shape of `x_tensor`.\n",
    "* Apply a convolution to `x_tensor` using weight and `conv_strides`.\n",
    " * We recommend you use same padding, but you're welcome to use any padding.\n",
    "* Add bias\n",
    "* Add a nonlinear activation to the convolution.\n",
    "* Apply Max Pooling using `pool_ksize` and `pool_strides`.\n",
    " * We recommend you use same padding, but you're welcome to use any padding.\n",
    "\n",
    "**Note:** You **can't** use [TensorFlow Layers](https://www.tensorflow.org/api_docs/python/tf/layers) or [TensorFlow Layers (contrib)](https://www.tensorflow.org/api_guides/python/contrib.layers) for **this** layer, but you can still use TensorFlow's [Neural Network](https://www.tensorflow.org/api_docs/python/tf/nn) package. You may still use the shortcut option for all the **other** layers."
   ]
  },
  {
   "cell_type": "code",
   "execution_count": 4,
   "metadata": {
    "collapsed": false,
    "deletable": true,
    "editable": true
   },
   "outputs": [],
   "source": [
    "def create_weight_vars(shape):\n",
    "    #initializer = tf.contrib.layers.xavier_initializer_conv2d()\n",
    "    #return (tf.Variable(initializer(shape=shape)), tf.Variable(tf.zeros(shape[-1])))\n",
    "    return (tf.Variable(tf.truncated_normal(shape, stddev=0.05)), tf.Variable(tf.zeros(shape[-1])))"
   ]
  },
  {
   "cell_type": "code",
   "execution_count": 5,
   "metadata": {
    "collapsed": true,
    "deletable": true,
    "editable": true
   },
   "outputs": [],
   "source": [
    "def get_weights_length(x_tensor, conv_strides, conv_path_size, p=1, rank=2):\n",
    "    \"\"\" calculates patch sizes from patch = -strides*(output + 1) + 2*p + width for padding SAME\"\"\"\n",
    "    weights = []\n",
    "    for d in range(rank):\n",
    "        weights.append(x_tensor.shape[d+1].value + 2*p - conv_strides[d] * (conv_path_size[d] + 1))\n",
    "    \n",
    "    return weights"
   ]
  },
  {
   "cell_type": "code",
   "execution_count": 6,
   "metadata": {
    "collapsed": false,
    "deletable": true,
    "editable": true
   },
   "outputs": [
    {
     "name": "stdout",
     "output_type": "stream",
     "text": [
      "Tests Passed\n"
     ]
    }
   ],
   "source": [
    "def conv2d_maxpool(x_tensor, depth, conv_patch_size, conv_strides, pool_ksize=(), pool_strides=()):\n",
    "    \"\"\"\n",
    "    Apply convolution then max pooling to x_tensor\n",
    "    :param x_tensor: TensorFlow Tensor\n",
    "    :param conv_num_outputs: Number of outputs for the convolutional layer\n",
    "    :param conv_ksize: kernal size 2-D Tuple for the convolutional layer\n",
    "    :param conv_strides: Stride 2-D Tuple for convolution\n",
    "    :param pool_ksize: kernal size 2-D Tuple for pool\n",
    "    :param pool_strides: Stride 2-D Tuple for pool\n",
    "    : return: A tensor that represents convolution and max pooling of x_tensor\n",
    "    \"\"\"\n",
    "    weight_width, weight_height = get_weights_length(x_tensor, conv_strides, conv_patch_size)\n",
    "    \n",
    "    F_W, F_b = create_weight_vars([weight_width, weight_height, x_tensor.shape[-1].value, depth])\n",
    "    \n",
    "    x_tensor = tf.nn.conv2d(x_tensor, F_W, strides=[1, conv_strides[0], conv_strides[1], 1], padding='SAME')\n",
    "    x_tensor = tf.nn.bias_add(x_tensor, F_b)\n",
    "    x_tensor = tf.nn.relu(x_tensor)\n",
    "    \n",
    "    if pool_ksize:\n",
    "        x_tensor = tf.nn.max_pool(x_tensor,\n",
    "            ksize=[1, pool_ksize[0], pool_ksize[1], 1],\n",
    "            strides=[1, pool_strides[0], pool_strides[1], 1],\n",
    "            padding='SAME')\n",
    "    return x_tensor\n",
    "\n",
    "\n",
    "\"\"\"\n",
    "DON'T MODIFY ANYTHING IN THIS CELL THAT IS BELOW THIS LINE\n",
    "\"\"\"\n",
    "tests.test_con_pool(conv2d_maxpool)"
   ]
  },
  {
   "cell_type": "markdown",
   "metadata": {
    "deletable": true,
    "editable": true
   },
   "source": [
    "### Flatten Layer\n",
    "Implement the `flatten` function to change the dimension of `x_tensor` from a 4-D tensor to a 2-D tensor.  The output should be the shape (*Batch Size*, *Flattened Image Size*). Shortcut option: you can use classes from the [TensorFlow Layers](https://www.tensorflow.org/api_docs/python/tf/layers) or [TensorFlow Layers (contrib)](https://www.tensorflow.org/api_guides/python/contrib.layers) packages for this layer. For more of a challenge, only use other TensorFlow packages."
   ]
  },
  {
   "cell_type": "code",
   "execution_count": 7,
   "metadata": {
    "collapsed": false,
    "deletable": true,
    "editable": true
   },
   "outputs": [
    {
     "name": "stdout",
     "output_type": "stream",
     "text": [
      "Tests Passed\n"
     ]
    }
   ],
   "source": [
    "def get_tensor_w_connections(tensor):\n",
    "    sizes = tensor.get_shape().as_list()\n",
    "    v = sizes[1]\n",
    "    for t in sizes[2:len(sizes)]:\n",
    "        v *= t\n",
    "    return v\n",
    "\n",
    "def flatten(x_tensor):\n",
    "    \"\"\"\n",
    "    Flatten x_tensor to (Batch Size, Flattened Image Size)\n",
    "    : x_tensor: A tensor of size (Batch Size, ...), where ... are the image dimensions.\n",
    "    : return: A tensor of size (Batch Size, Flattened Image Size).\n",
    "    \"\"\"\n",
    "    return(tf.reshape(x_tensor, [-1, get_tensor_w_connections(x_tensor) ], \n",
    "                      name='flattened_tensor'))\n",
    "\n",
    "\n",
    "\"\"\"\n",
    "DON'T MODIFY ANYTHING IN THIS CELL THAT IS BELOW THIS LINE\n",
    "\"\"\"\n",
    "\n",
    "tests.test_flatten(flatten)"
   ]
  },
  {
   "cell_type": "markdown",
   "metadata": {
    "deletable": true,
    "editable": true
   },
   "source": [
    "### Fully-Connected Layer\n",
    "Implement the `fully_conn` function to apply a fully connected layer to `x_tensor` with the shape (*Batch Size*, *num_outputs*). Shortcut option: you can use classes from the [TensorFlow Layers](https://www.tensorflow.org/api_docs/python/tf/layers) or [TensorFlow Layers (contrib)](https://www.tensorflow.org/api_guides/python/contrib.layers) packages for this layer. For more of a challenge, only use other TensorFlow packages."
   ]
  },
  {
   "cell_type": "code",
   "execution_count": 8,
   "metadata": {
    "collapsed": false,
    "deletable": true,
    "editable": true
   },
   "outputs": [
    {
     "name": "stdout",
     "output_type": "stream",
     "text": [
      "Tests Passed\n"
     ]
    }
   ],
   "source": [
    "def fully_conn(x_tensor, num_outputs):\n",
    "    \"\"\"\n",
    "    Apply a fully connected layer to x_tensor using weight and bias\n",
    "    : x_tensor: A 2-D tensor where the first dimension is batch size.\n",
    "    : num_outputs: The number of output that the new tensor should be.\n",
    "    : return: A 2-D tensor where the second dimension is num_outputs.\n",
    "    \"\"\"\n",
    "    F_W, F_b = create_weight_vars([x_tensor.shape[1].value, num_outputs])\n",
    "    \n",
    "    return tf.nn.relu(tf.matmul(x_tensor, F_W) + F_b, name='fully_connected')\n",
    "\n",
    "\n",
    "\"\"\"\n",
    "DON'T MODIFY ANYTHING IN THIS CELL THAT IS BELOW THIS LINE\n",
    "\"\"\"\n",
    "tests.test_fully_conn(fully_conn)"
   ]
  },
  {
   "cell_type": "markdown",
   "metadata": {
    "deletable": true,
    "editable": true
   },
   "source": [
    "### Output Layer\n",
    "Implement the `output` function to apply a fully connected layer to `x_tensor` with the shape (*Batch Size*, *num_outputs*). Shortcut option: you can use classes from the [TensorFlow Layers](https://www.tensorflow.org/api_docs/python/tf/layers) or [TensorFlow Layers (contrib)](https://www.tensorflow.org/api_guides/python/contrib.layers) packages for this layer. For more of a challenge, only use other TensorFlow packages.\n",
    "\n",
    "**Note:** Activation, softmax, or cross entropy should **not** be applied to this."
   ]
  },
  {
   "cell_type": "code",
   "execution_count": 9,
   "metadata": {
    "collapsed": false,
    "deletable": true,
    "editable": true
   },
   "outputs": [
    {
     "name": "stdout",
     "output_type": "stream",
     "text": [
      "Tests Passed\n"
     ]
    }
   ],
   "source": [
    "def output(x_tensor, num_outputs):\n",
    "    \"\"\"\n",
    "    Apply a output layer to x_tensor using weight and bias\n",
    "    : x_tensor: A 2-D tensor where the first dimension is batch size.\n",
    "    : num_outputs: The number of output that the new tensor should be.\n",
    "    : return: A 2-D tensor where the second dimension is num_outputs.\n",
    "    \"\"\"\n",
    "    F_W, F_b = create_weight_vars([x_tensor.shape[1].value, num_outputs])\n",
    "\n",
    "    return tf.matmul(x_tensor, F_W) + F_b\n",
    "\n",
    "\n",
    "\"\"\"\n",
    "DON'T MODIFY ANYTHING IN THIS CELL THAT IS BELOW THIS LINE\n",
    "\"\"\"\n",
    "tests.test_output(output)"
   ]
  },
  {
   "cell_type": "markdown",
   "metadata": {
    "deletable": true,
    "editable": true
   },
   "source": [
    "### Create Convolutional Model\n",
    "Implement the function `conv_net` to create a convolutional neural network model. The function takes in a batch of images, `x`, and outputs logits.  Use the layers you created above to create this model:\n",
    "\n",
    "* Apply 1, 2, or 3 Convolution and Max Pool layers\n",
    "* Apply a Flatten Layer\n",
    "* Apply 1, 2, or 3 Fully Connected Layers\n",
    "* Apply an Output Layer\n",
    "* Return the output\n",
    "* Apply [TensorFlow's Dropout](https://www.tensorflow.org/api_docs/python/tf/nn/dropout) to one or more layers in the model using `keep_prob`. "
   ]
  },
  {
   "cell_type": "code",
   "execution_count": 19,
   "metadata": {
    "collapsed": true,
    "deletable": true,
    "editable": true
   },
   "outputs": [],
   "source": [
    "def get_prob(train_keep_prob, keep_prob):\n",
    "    \"\"\" function to provide a tensor value of 1 or the train_keep_prob value\n",
    "    \n",
    "        This lets me assign different keep_prob to different dropout sections to see if that makes a difference\n",
    "    \"\"\"\n",
    "    ONE = tf.constant(1.)\n",
    "    return  tf.case([(tf.equal(ONE, keep_prob), lambda: ONE)], \n",
    "                    default=lambda: tf.constant(train_keep_prob))"
   ]
  },
  {
   "cell_type": "code",
   "execution_count": 58,
   "metadata": {
    "collapsed": false,
    "deletable": true,
    "editable": true
   },
   "outputs": [
    {
     "name": "stdout",
     "output_type": "stream",
     "text": [
      "Neural Network Built!\n"
     ]
    }
   ],
   "source": [
    "def conv_net(x, keep_prob):\n",
    "    \"\"\"\n",
    "    Create a convolutional neural network model\n",
    "    : x: Placeholder tensor that holds image data.\n",
    "    : keep_prob: Placeholder tensor that hold dropout keep probability.\n",
    "    : return: Tensor that represents logits\n",
    "    \"\"\"\n",
    "    \n",
    "    x = conv2d_maxpool(x, 32, (5,5), (1,1), (3,3), (2,2))\n",
    "    #x = tf.nn.dropout(x, keep_prob=get_prob(0.9, keep_prob))\n",
    "    \n",
    "    x = conv2d_maxpool(x, 48, (5,5), (1,1), (3,3), (2,2))\n",
    "    #x = tf.nn.dropout(x, keep_prob=get_prob(0.9, keep_prob))\n",
    "\n",
    "    x = conv2d_maxpool(x, 64, (5,5), (1,1), (3,3), (2,2))\n",
    "\n",
    "    x = flatten(x)\n",
    "    x = tf.nn.dropout(x, keep_prob=get_prob(0.8, keep_prob))\n",
    "    \n",
    "    \n",
    "    x = fully_conn(x, 512)\n",
    "    x = tf.nn.dropout(x, keep_prob=get_prob(0.7, keep_prob))\n",
    "    \n",
    "    x = fully_conn(x, 128)    \n",
    "    x = tf.nn.dropout(x, keep_prob=get_prob(0.6, keep_prob))\n",
    "    \n",
    "    \"\"\"\n",
    "    # apply short vggnet\n",
    "    x = conv2d_maxpool(x, 32, (3,3), (1,1))\n",
    "    x = conv2d_maxpool(x, 32, (3,3), (1,1), (2,2), (2,2))\n",
    "    x = tf.nn.dropout(x, keep_prob=get_prob(0.8, keep_prob))\n",
    "    \n",
    "    x = conv2d_maxpool(x, 64, (5,5), (1,1))\n",
    "    x = conv2d_maxpool(x, 64, (5,5), (1,1), (2,2), (2,2))\n",
    "\n",
    "    x = flatten(x)\n",
    "    x = tf.nn.dropout(x, keep_prob=get_prob(0.6, keep_prob))\n",
    "    \n",
    "    \n",
    "    x = fully_conn(x, 1024)\n",
    "    x = tf.nn.dropout(x, keep_prob=get_prob(0.5, keep_prob))\n",
    "    \n",
    "    x = fully_conn(x, 128)    \n",
    "    x = tf.nn.dropout(x, keep_prob=get_prob(0.4, keep_prob))\n",
    "    \"\"\"\n",
    "    \n",
    "    out = output(x, 10)\n",
    "    \n",
    "    return out\n",
    "\n",
    "\n",
    "\"\"\"\n",
    "DON'T MODIFY ANYTHING IN THIS CELL THAT IS BELOW THIS LINE\n",
    "\"\"\"\n",
    "\n",
    "##############################\n",
    "## Build the Neural Network ##\n",
    "##############################\n",
    "\n",
    "# Remove previous weights, bias, inputs, etc..\n",
    "tf.reset_default_graph()\n",
    "\n",
    "# Inputs\n",
    "x = neural_net_image_input((32, 32, 3))\n",
    "y = neural_net_label_input(10)\n",
    "keep_prob = neural_net_keep_prob_input()\n",
    "\n",
    "# Model\n",
    "logits = conv_net(x, keep_prob)\n",
    "\n",
    "# Name logits Tensor, so that is can be loaded from disk after training\n",
    "logits = tf.identity(logits, name='logits')\n",
    "\n",
    "# Loss and Optimizer\n",
    "cost = tf.reduce_mean(tf.nn.softmax_cross_entropy_with_logits(logits=logits, labels=y))\n",
    "optimizer = tf.train.AdamOptimizer().minimize(cost)\n",
    "\n",
    "# Accuracy\n",
    "correct_pred = tf.equal(tf.argmax(logits, 1), tf.argmax(y, 1))\n",
    "accuracy = tf.reduce_mean(tf.cast(correct_pred, tf.float32), name='accuracy')\n",
    "\n",
    "tests.test_conv_net(conv_net)"
   ]
  },
  {
   "cell_type": "markdown",
   "metadata": {
    "deletable": true,
    "editable": true
   },
   "source": [
    "## Train the Neural Network\n",
    "### Single Optimization\n",
    "Implement the function `train_neural_network` to do a single optimization.  The optimization should use `optimizer` to optimize in `session` with a `feed_dict` of the following:\n",
    "* `x` for image input\n",
    "* `y` for labels\n",
    "* `keep_prob` for keep probability for dropout\n",
    "\n",
    "This function will be called for each batch, so `tf.global_variables_initializer()` has already been called.\n",
    "\n",
    "Note: Nothing needs to be returned. This function is only optimizing the neural network."
   ]
  },
  {
   "cell_type": "code",
   "execution_count": 59,
   "metadata": {
    "collapsed": false,
    "deletable": true,
    "editable": true
   },
   "outputs": [
    {
     "name": "stdout",
     "output_type": "stream",
     "text": [
      "Tests Passed\n"
     ]
    }
   ],
   "source": [
    "def train_neural_network(session, optimizer, keep_probability, feature_batch, label_batch):\n",
    "    \"\"\"\n",
    "    Optimize the session on a batch of images and labels\n",
    "    : session: Current TensorFlow session\n",
    "    : optimizer: TensorFlow optimizer function\n",
    "    : keep_probability: keep probability\n",
    "    : feature_batch: Batch of Numpy image data\n",
    "    : label_batch: Batch of Numpy label data\n",
    "    \"\"\"\n",
    "    session.run(optimizer, feed_dict={x: feature_batch, \n",
    "                                      y: label_batch, \n",
    "                                      keep_prob: keep_probability})\n",
    "        \n",
    "\n",
    "\n",
    "\"\"\"\n",
    "DON'T MODIFY ANYTHING IN THIS CELL THAT IS BELOW THIS LINE\n",
    "\"\"\"\n",
    "tests.test_train_nn(train_neural_network)"
   ]
  },
  {
   "cell_type": "markdown",
   "metadata": {
    "deletable": true,
    "editable": true
   },
   "source": [
    "### Show Stats\n",
    "Implement the function `print_stats` to print loss and validation accuracy.  Use the global variables `valid_features` and `valid_labels` to calculate validation accuracy.  Use a keep probability of `1.0` to calculate the loss and validation accuracy."
   ]
  },
  {
   "cell_type": "code",
   "execution_count": 60,
   "metadata": {
    "collapsed": true
   },
   "outputs": [],
   "source": [
    "def get_network_accuracy(sess, test_features, test_labels, accuracy, batch_size):\n",
    "    \"\"\" extracted/refactored method from test section below \"\"\"\n",
    "    \n",
    "    test_batch_acc_total = 0\n",
    "    test_batch_count = 0\n",
    "    \n",
    "    for test_feature_batch, test_label_batch in helper.batch_features_labels(test_features, test_labels, batch_size):\n",
    "        test_batch_acc_total += sess.run(\n",
    "            accuracy, feed_dict={x: test_feature_batch, y: test_label_batch, keep_prob: 1.})\n",
    "        test_batch_count += 1\n",
    "\n",
    "    return test_batch_acc_total/test_batch_count"
   ]
  },
  {
   "cell_type": "code",
   "execution_count": 66,
   "metadata": {
    "collapsed": false,
    "deletable": true,
    "editable": true
   },
   "outputs": [],
   "source": [
    "def print_stats(session, feature_batch, label_batch, cost, accuracy):\n",
    "    \"\"\"\n",
    "    Print information about loss and validation accuracy\n",
    "    : session: Current TensorFlow session\n",
    "    : feature_batch: Batch of Numpy image data\n",
    "    : label_batch: Batch of Numpy label data\n",
    "    : cost: TensorFlow cost function\n",
    "    : accuracy: TensorFlow accuracy function\n",
    "    \"\"\"    \n",
    "    \n",
    "    loss = sess.run(cost, feed_dict={x: feature_batch, y: label_batch, keep_prob: 1.})\n",
    "    \n",
    "    # get batch of validation features/labels\n",
    "    acc = get_network_accuracy(sess, valid_features, valid_labels, accuracy, len(label_batch))\n",
    "    \n",
    "    print('Loss: {} - Accuracy: {}'.format(loss, acc))\n",
    "    return loss, acc"
   ]
  },
  {
   "cell_type": "markdown",
   "metadata": {
    "deletable": true,
    "editable": true
   },
   "source": [
    "### Hyperparameters\n",
    "Tune the following parameters:\n",
    "* Set `epochs` to the number of iterations until the network stops learning or start overfitting\n",
    "* Set `batch_size` to the highest number that your machine has memory for.  Most people set them to common sizes of memory:\n",
    " * 64\n",
    " * 128\n",
    " * 256\n",
    " * ...\n",
    "* Set `keep_probability` to the probability of keeping a node using dropout"
   ]
  },
  {
   "cell_type": "code",
   "execution_count": 62,
   "metadata": {
    "collapsed": false,
    "deletable": true,
    "editable": true
   },
   "outputs": [],
   "source": [
    "# TODO: Tune Parameters\n",
    "epochs = 70\n",
    "batch_size = 64\n",
    "keep_probability =.7"
   ]
  },
  {
   "cell_type": "markdown",
   "metadata": {
    "deletable": true,
    "editable": true
   },
   "source": [
    "### Train on a Single CIFAR-10 Batch\n",
    "Instead of training the neural network on all the CIFAR-10 batches of data, let's use a single batch. This should save time while you iterate on the model to get a better accuracy.  Once the final validation accuracy is 50% or greater, run the model on all the data in the next section."
   ]
  },
  {
   "cell_type": "code",
   "execution_count": 63,
   "metadata": {
    "collapsed": false,
    "deletable": true,
    "editable": true,
    "scrolled": true
   },
   "outputs": [
    {
     "name": "stdout",
     "output_type": "stream",
     "text": [
      "Checking the Training on a Single Batch...\n",
      "Epoch  1, CIFAR-10 Batch 5:  Loss: 1.9235718250274658 - Accuracy: 0.2540000052452087\n",
      "Epoch  2, CIFAR-10 Batch 5:  Loss: 1.8146620988845825 - Accuracy: 0.32720000779628755\n",
      "Epoch  3, CIFAR-10 Batch 5:  Loss: 1.8730229139328003 - Accuracy: 0.3250000065565109\n",
      "Epoch  4, CIFAR-10 Batch 5:  Loss: 1.782179832458496 - Accuracy: 0.36260000729560854\n",
      "Epoch  5, CIFAR-10 Batch 5:  Loss: 1.7616578340530396 - Accuracy: 0.38040000569820404\n",
      "Epoch  6, CIFAR-10 Batch 5:  Loss: 1.6690382957458496 - Accuracy: 0.3918000087738037\n",
      "Epoch  7, CIFAR-10 Batch 5:  Loss: 1.6321601867675781 - Accuracy: 0.4136000037193298\n",
      "Epoch  8, CIFAR-10 Batch 5:  Loss: 1.6328943967819214 - Accuracy: 0.4130000056028366\n",
      "Epoch  9, CIFAR-10 Batch 5:  Loss: 1.542410135269165 - Accuracy: 0.4142000091075897\n",
      "Epoch 10, CIFAR-10 Batch 5:  Loss: 1.6866284608840942 - Accuracy: 0.389400004863739\n",
      "Epoch 11, CIFAR-10 Batch 5:  Loss: 1.5798982381820679 - Accuracy: 0.4180000079870224\n",
      "Epoch 12, CIFAR-10 Batch 5:  Loss: 1.4415431022644043 - Accuracy: 0.41100000822544097\n",
      "Epoch 13, CIFAR-10 Batch 5:  Loss: 1.4568114280700684 - Accuracy: 0.41960000777244566\n",
      "Epoch 14, CIFAR-10 Batch 5:  Loss: 1.363858938217163 - Accuracy: 0.4056000072956085\n",
      "Epoch 15, CIFAR-10 Batch 5:  Loss: 1.2146916389465332 - Accuracy: 0.41680000710487364\n",
      "Epoch 16, CIFAR-10 Batch 5:  Loss: 1.2391321659088135 - Accuracy: 0.3836000096797943\n",
      "Epoch 17, CIFAR-10 Batch 5:  Loss: 1.5959076881408691 - Accuracy: 0.3962000064849854\n",
      "Epoch 18, CIFAR-10 Batch 5:  Loss: 1.3252155780792236 - Accuracy: 0.4050000078678131\n",
      "Epoch 19, CIFAR-10 Batch 5:  Loss: 1.410590648651123 - Accuracy: 0.4112000063657761\n",
      "Epoch 20, CIFAR-10 Batch 5:  Loss: 1.4250925779342651 - Accuracy: 0.4160000077486038\n",
      "Epoch 21, CIFAR-10 Batch 5:  Loss: 1.2842649221420288 - Accuracy: 0.41400000751018523\n",
      "Epoch 22, CIFAR-10 Batch 5:  Loss: 1.384314775466919 - Accuracy: 0.42360000669956205\n",
      "Epoch 23, CIFAR-10 Batch 5:  Loss: 1.5102627277374268 - Accuracy: 0.3988000065088272\n",
      "Epoch 24, CIFAR-10 Batch 5:  Loss: 1.367820143699646 - Accuracy: 0.3898000087738037\n",
      "Epoch 25, CIFAR-10 Batch 5:  Loss: 1.1187036037445068 - Accuracy: 0.4310000096559525\n",
      "Epoch 26, CIFAR-10 Batch 5:  Loss: 1.0255837440490723 - Accuracy: 0.4202000061273575\n",
      "Epoch 27, CIFAR-10 Batch 5:  Loss: 0.999807596206665 - Accuracy: 0.4082000074386597\n",
      "Epoch 28, CIFAR-10 Batch 5:  Loss: 0.930749773979187 - Accuracy: 0.4222000072002411\n",
      "Epoch 29, CIFAR-10 Batch 5:  Loss: 0.7877633571624756 - Accuracy: 0.4200000057220459\n",
      "Epoch 30, CIFAR-10 Batch 5:  Loss: 0.7160311937332153 - Accuracy: 0.4218000078201294\n",
      "Epoch 31, CIFAR-10 Batch 5:  Loss: 0.7289938926696777 - Accuracy: 0.43400000703334807\n",
      "Epoch 32, CIFAR-10 Batch 5:  Loss: 0.5643165111541748 - Accuracy: 0.4266000065803528\n",
      "Epoch 33, CIFAR-10 Batch 5:  Loss: 0.5468571782112122 - Accuracy: 0.41180000710487363\n",
      "Epoch 34, CIFAR-10 Batch 5:  Loss: 0.5681934952735901 - Accuracy: 0.41280000686645507\n",
      "Epoch 35, CIFAR-10 Batch 5:  Loss: 0.4909430742263794 - Accuracy: 0.406200005531311\n",
      "Epoch 36, CIFAR-10 Batch 5:  Loss: 0.5458433628082275 - Accuracy: 0.40920000898838044\n",
      "Epoch 37, CIFAR-10 Batch 5:  Loss: 0.4184814691543579 - Accuracy: 0.41840000700950625\n",
      "Epoch 38, CIFAR-10 Batch 5:  Loss: 0.43715620040893555 - Accuracy: 0.41160000598430635\n",
      "Epoch 39, CIFAR-10 Batch 5:  Loss: 0.508956789970398 - Accuracy: 0.41500000512599944\n",
      "Epoch 40, CIFAR-10 Batch 5:  Loss: 0.5918172001838684 - Accuracy: 0.40580000936985017\n",
      "Epoch 41, CIFAR-10 Batch 5:  Loss: 0.4976695477962494 - Accuracy: 0.4042000082731247\n",
      "Epoch 42, CIFAR-10 Batch 5:  Loss: 0.38253316283226013 - Accuracy: 0.4126000089645386\n",
      "Epoch 43, CIFAR-10 Batch 5:  Loss: 0.5893170833587646 - Accuracy: 0.4144000086784363\n",
      "Epoch 44, CIFAR-10 Batch 5:  Loss: 0.44642022252082825 - Accuracy: 0.4022000070810318\n",
      "Epoch 45, CIFAR-10 Batch 5:  Loss: 0.47363215684890747 - Accuracy: 0.4134000072479248\n",
      "Epoch 46, CIFAR-10 Batch 5:  Loss: 0.31094661355018616 - Accuracy: 0.4246000076532364\n",
      "Epoch 47, CIFAR-10 Batch 5:  Loss: 0.31222009658813477 - Accuracy: 0.4270000064373016\n",
      "Epoch 48, CIFAR-10 Batch 5:  Loss: 0.32057034969329834 - Accuracy: 0.4248000078201294\n",
      "Epoch 49, CIFAR-10 Batch 5:  Loss: 0.33705323934555054 - Accuracy: 0.4256000074148178\n",
      "Epoch 50, CIFAR-10 Batch 5:  Loss: 0.551062822341919 - Accuracy: 0.43100000858306886\n",
      "Epoch 51, CIFAR-10 Batch 5:  Loss: 0.5102600455284119 - Accuracy: 0.4270000057220459\n",
      "Epoch 52, CIFAR-10 Batch 5:  Loss: 0.47755157947540283 - Accuracy: 0.41760000586509705\n",
      "Epoch 53, CIFAR-10 Batch 5:  Loss: 0.3558924198150635 - Accuracy: 0.4286000086069107\n",
      "Epoch 54, CIFAR-10 Batch 5:  Loss: 0.41872161626815796 - Accuracy: 0.4058000065088272\n",
      "Epoch 55, CIFAR-10 Batch 5:  Loss: 0.630407989025116 - Accuracy: 0.41640000450611114\n",
      "Epoch 56, CIFAR-10 Batch 5:  Loss: 0.45679959654808044 - Accuracy: 0.4014000051021576\n",
      "Epoch 57, CIFAR-10 Batch 5:  Loss: 0.44671744108200073 - Accuracy: 0.4126000064611435\n",
      "Epoch 58, CIFAR-10 Batch 5:  Loss: 0.46776965260505676 - Accuracy: 0.39640000808238984\n",
      "Epoch 59, CIFAR-10 Batch 5:  Loss: 0.4814525842666626 - Accuracy: 0.39300000834465026\n",
      "Epoch 60, CIFAR-10 Batch 5:  Loss: 0.501534104347229 - Accuracy: 0.3998000090122223\n",
      "Epoch 61, CIFAR-10 Batch 5:  Loss: 0.5868844985961914 - Accuracy: 0.39680000507831575\n",
      "Epoch 62, CIFAR-10 Batch 5:  Loss: 0.39490389823913574 - Accuracy: 0.4082000074386597\n",
      "Epoch 63, CIFAR-10 Batch 5:  Loss: 0.3610836863517761 - Accuracy: 0.3944000051021576\n",
      "Epoch 64, CIFAR-10 Batch 5:  Loss: 0.3220871388912201 - Accuracy: 0.39780000591278075\n",
      "Epoch 65, CIFAR-10 Batch 5:  Loss: 0.3794883191585541 - Accuracy: 0.4080000081062317\n",
      "Epoch 66, CIFAR-10 Batch 5:  Loss: 0.31548595428466797 - Accuracy: 0.4076000056266785\n",
      "Epoch 67, CIFAR-10 Batch 5:  Loss: 0.295678973197937 - Accuracy: 0.41740000677108763\n",
      "Epoch 68, CIFAR-10 Batch 5:  Loss: 0.194030299782753 - Accuracy: 0.4138000065088272\n",
      "Epoch 69, CIFAR-10 Batch 5:  Loss: 0.16936250030994415 - Accuracy: 0.42200000953674316\n",
      "Epoch 70, CIFAR-10 Batch 5:  Loss: 0.131907343864441 - Accuracy: 0.5076000092029571\n"
     ]
    }
   ],
   "source": [
    "\"\"\"\n",
    "DON'T MODIFY ANYTHING IN THIS CELL\n",
    "\"\"\"\n",
    "print('Checking the Training on a Single Batch...')\n",
    "with tf.Session() as sess:\n",
    "#with tf.Session(config=tf.ConfigProto(device_count={'GPU': 0})) as sess:\n",
    "    # Initializing the variables\n",
    "    sess.run(tf.global_variables_initializer())\n",
    "    # Training cycle\n",
    "    for epoch in range(epochs):\n",
    "        batch_i = 5\n",
    "        for batch_features, batch_labels in helper.load_preprocess_training_batch(batch_i, batch_size):\n",
    "            train_neural_network(sess, optimizer, keep_probability, batch_features, batch_labels)\n",
    "        print('Epoch {:>2}, CIFAR-10 Batch {}:  '.format(epoch + 1, batch_i), end='')\n",
    "        print_stats(sess, batch_features, batch_labels, cost, accuracy)"
   ]
  },
  {
   "cell_type": "markdown",
   "metadata": {
    "deletable": true,
    "editable": true
   },
   "source": [
    "### Fully Train the Model\n",
    "Now that you got a good accuracy with a single CIFAR-10 batch, try it with all five batches."
   ]
  },
  {
   "cell_type": "code",
   "execution_count": 68,
   "metadata": {
    "collapsed": false,
    "deletable": true,
    "editable": true
   },
   "outputs": [],
   "source": [
    "# TODO: Tune Parameters\n",
    "epochs = 80\n",
    "batch_size = 128\n",
    "keep_probability =.7\n",
    "validation_array = np.arange(len(valid_labels))\n",
    "min_accuracy_to_stop = 0.55\n",
    "accuracy_stop_signal = False"
   ]
  },
  {
   "cell_type": "code",
   "execution_count": 65,
   "metadata": {
    "collapsed": false,
    "deletable": true,
    "editable": true
   },
   "outputs": [
    {
     "name": "stdout",
     "output_type": "stream",
     "text": [
      "Training...\n",
      "Epoch  1, CIFAR-10 Batch 1:  Loss: 2.205305576324463 - Accuracy: 0.2500000056028366\n",
      "Epoch  1, CIFAR-10 Batch 2:  Loss: 1.9599369764328003 - Accuracy: 0.2604000065922737\n",
      "Epoch  1, CIFAR-10 Batch 3:  Loss: 1.7741245031356812 - Accuracy: 0.3304000073671341\n",
      "Epoch  1, CIFAR-10 Batch 4:  Loss: 1.7785918712615967 - Accuracy: 0.3468000066280365\n",
      "Epoch  1, CIFAR-10 Batch 5:  Loss: 1.8527703285217285 - Accuracy: 0.36200000655651093\n",
      "Epoch  2, CIFAR-10 Batch 1:  Loss: 1.927304744720459 - Accuracy: 0.37440000915527344\n",
      "Epoch  2, CIFAR-10 Batch 2:  Loss: 1.671773910522461 - Accuracy: 0.39020000684261325\n",
      "Epoch  2, CIFAR-10 Batch 3:  Loss: 1.5928592681884766 - Accuracy: 0.40120000720024107\n",
      "Epoch  2, CIFAR-10 Batch 4:  Loss: 1.5625816583633423 - Accuracy: 0.4198000078201294\n",
      "Epoch  2, CIFAR-10 Batch 5:  Loss: 1.683253288269043 - Accuracy: 0.4278000078201294\n",
      "Epoch  3, CIFAR-10 Batch 1:  Loss: 1.7870999574661255 - Accuracy: 0.42080000829696657\n",
      "Epoch  3, CIFAR-10 Batch 2:  Loss: 1.546218752861023 - Accuracy: 0.4402000081539154\n",
      "Epoch  3, CIFAR-10 Batch 3:  Loss: 1.4250714778900146 - Accuracy: 0.4212000097036362\n",
      "Epoch  3, CIFAR-10 Batch 4:  Loss: 1.4223532676696777 - Accuracy: 0.45140000534057617\n",
      "Epoch  3, CIFAR-10 Batch 5:  Loss: 1.536304235458374 - Accuracy: 0.45100000882148744\n",
      "Epoch  4, CIFAR-10 Batch 1:  Loss: 1.5904669761657715 - Accuracy: 0.4572000064849854\n",
      "Epoch  4, CIFAR-10 Batch 2:  Loss: 1.3479232788085938 - Accuracy: 0.46400000739097597\n",
      "Epoch  4, CIFAR-10 Batch 3:  Loss: 1.2986503839492798 - Accuracy: 0.45520000886917117\n",
      "Epoch  4, CIFAR-10 Batch 4:  Loss: 1.393880009651184 - Accuracy: 0.4768000054359436\n",
      "Epoch  4, CIFAR-10 Batch 5:  Loss: 1.4238145351409912 - Accuracy: 0.47520000767707826\n",
      "Epoch  5, CIFAR-10 Batch 1:  Loss: 1.4062601327896118 - Accuracy: 0.4784000072479248\n",
      "Epoch  5, CIFAR-10 Batch 2:  Loss: 1.2470242977142334 - Accuracy: 0.47800000858306885\n",
      "Epoch  5, CIFAR-10 Batch 3:  Loss: 1.2165297269821167 - Accuracy: 0.4646000075340271\n",
      "Epoch  5, CIFAR-10 Batch 4:  Loss: 1.2175065279006958 - Accuracy: 0.49100000500679014\n",
      "Epoch  5, CIFAR-10 Batch 5:  Loss: 1.3721024990081787 - Accuracy: 0.4918000078201294\n",
      "Epoch  6, CIFAR-10 Batch 1:  Loss: 1.222654104232788 - Accuracy: 0.4878000068664551\n",
      "Epoch  6, CIFAR-10 Batch 2:  Loss: 1.1195229291915894 - Accuracy: 0.4976000072956085\n",
      "Epoch  6, CIFAR-10 Batch 3:  Loss: 1.1118346452713013 - Accuracy: 0.4914000096321106\n",
      "Epoch  6, CIFAR-10 Batch 4:  Loss: 1.2004456520080566 - Accuracy: 0.4898000099658966\n",
      "Epoch  6, CIFAR-10 Batch 5:  Loss: 1.3392794132232666 - Accuracy: 0.4838000075817108\n",
      "Epoch  7, CIFAR-10 Batch 1:  Loss: 1.1444240808486938 - Accuracy: 0.4992000086307526\n",
      "Epoch  7, CIFAR-10 Batch 2:  Loss: 0.9886935949325562 - Accuracy: 0.5000000092983246\n",
      "Epoch  7, CIFAR-10 Batch 3:  Loss: 0.9762576818466187 - Accuracy: 0.4924000105857849\n",
      "Epoch  7, CIFAR-10 Batch 4:  Loss: 1.0472749471664429 - Accuracy: 0.5088000075817108\n",
      "Epoch  7, CIFAR-10 Batch 5:  Loss: 1.193042278289795 - Accuracy: 0.5046000080108642\n",
      "Epoch  8, CIFAR-10 Batch 1:  Loss: 1.1274644136428833 - Accuracy: 0.5100000052452087\n",
      "Epoch  8, CIFAR-10 Batch 2:  Loss: 0.985455334186554 - Accuracy: 0.5052000076770783\n",
      "Epoch  8, CIFAR-10 Batch 3:  Loss: 1.0165581703186035 - Accuracy: 0.4938000092506409\n",
      "Epoch  8, CIFAR-10 Batch 4:  Loss: 0.9236266016960144 - Accuracy: 0.5100000076293946\n",
      "Epoch  8, CIFAR-10 Batch 5:  Loss: 1.131907343864441 - Accuracy: 0.5076000092029571\n",
      "Epoch  9, CIFAR-10 Batch 1:  Loss: 1.009745478630066 - Accuracy: 0.5064000082015991\n",
      "Epoch  9, CIFAR-10 Batch 2:  Loss: 0.8893305063247681 - Accuracy: 0.5174000086784363\n",
      "Epoch  9, CIFAR-10 Batch 3:  Loss: 0.8370351195335388 - Accuracy: 0.5130000085830688\n",
      "Epoch  9, CIFAR-10 Batch 4:  Loss: 0.8759422898292542 - Accuracy: 0.5102000079154968\n",
      "Epoch  9, CIFAR-10 Batch 5:  Loss: 1.0685369968414307 - Accuracy: 0.5164000067710877\n",
      "Epoch 10, CIFAR-10 Batch 1:  Loss: 1.0289376974105835 - Accuracy: 0.5046000099182129\n",
      "Epoch 10, CIFAR-10 Batch 2:  Loss: 0.8220850229263306 - Accuracy: 0.5324000070095062\n",
      "Epoch 10, CIFAR-10 Batch 3:  Loss: 0.8673118948936462 - Accuracy: 0.495000009059906\n",
      "Epoch 10, CIFAR-10 Batch 4:  Loss: 0.8695276975631714 - Accuracy: 0.515800008058548\n",
      "Epoch 10, CIFAR-10 Batch 5:  Loss: 1.0029971599578857 - Accuracy: 0.5042000048160553\n",
      "Epoch 11, CIFAR-10 Batch 1:  Loss: 1.000778079032898 - Accuracy: 0.5032000069618225\n",
      "Epoch 11, CIFAR-10 Batch 2:  Loss: 0.7468933463096619 - Accuracy: 0.5286000088453293\n",
      "Epoch 11, CIFAR-10 Batch 3:  Loss: 0.8029409050941467 - Accuracy: 0.5008000111579896\n",
      "Epoch 11, CIFAR-10 Batch 4:  Loss: 0.8047272562980652 - Accuracy: 0.5276000077724456\n",
      "Epoch 11, CIFAR-10 Batch 5:  Loss: 0.9254269003868103 - Accuracy: 0.5082000098228454\n",
      "Epoch 12, CIFAR-10 Batch 1:  Loss: 0.9704102277755737 - Accuracy: 0.5230000059604645\n",
      "Epoch 12, CIFAR-10 Batch 2:  Loss: 0.7665769457817078 - Accuracy: 0.5284000079631805\n",
      "Epoch 12, CIFAR-10 Batch 3:  Loss: 0.7280182838439941 - Accuracy: 0.5228000063896179\n",
      "Epoch 12, CIFAR-10 Batch 4:  Loss: 0.8233099579811096 - Accuracy: 0.5286000080108643\n",
      "Epoch 12, CIFAR-10 Batch 5:  Loss: 0.9468177556991577 - Accuracy: 0.5198000071048736\n",
      "Epoch 13, CIFAR-10 Batch 1:  Loss: 0.8765015006065369 - Accuracy: 0.5368000090122222\n",
      "Epoch 13, CIFAR-10 Batch 2:  Loss: 0.8846238851547241 - Accuracy: 0.5296000080108643\n",
      "Epoch 13, CIFAR-10 Batch 3:  Loss: 0.6564602851867676 - Accuracy: 0.5362000076770782\n",
      "Epoch 13, CIFAR-10 Batch 4:  Loss: 0.7550129890441895 - Accuracy: 0.545400012254715\n",
      "Epoch 13, CIFAR-10 Batch 5:  Loss: 0.9302604794502258 - Accuracy: 0.5376000118255615\n",
      "Epoch 14, CIFAR-10 Batch 1:  Loss: 0.8307321667671204 - Accuracy: 0.5172000074386597\n",
      "Epoch 14, CIFAR-10 Batch 2:  Loss: 0.7513244152069092 - Accuracy: 0.5282000045776367\n",
      "Epoch 14, CIFAR-10 Batch 3:  Loss: 0.6653695106506348 - Accuracy: 0.5242000091075897\n",
      "Epoch 14, CIFAR-10 Batch 4:  Loss: 0.7134202718734741 - Accuracy: 0.5366000101566315\n",
      "Epoch 14, CIFAR-10 Batch 5:  Loss: 0.9765937328338623 - Accuracy: 0.5296000106334686\n",
      "Epoch 15, CIFAR-10 Batch 1:  Loss: 0.8243255615234375 - Accuracy: 0.5172000081539154\n",
      "Epoch 15, CIFAR-10 Batch 2:  Loss: 0.7376694679260254 - Accuracy: 0.5270000076293946\n",
      "Epoch 15, CIFAR-10 Batch 3:  Loss: 0.7057127952575684 - Accuracy: 0.5426000096797943\n",
      "Epoch 15, CIFAR-10 Batch 4:  Loss: 0.6377198100090027 - Accuracy: 0.5448000102043152\n",
      "Epoch 15, CIFAR-10 Batch 5:  Loss: 0.8565452098846436 - Accuracy: 0.5120000071525573\n",
      "Epoch 16, CIFAR-10 Batch 1:  Loss: 0.7914475798606873 - Accuracy: 0.5138000099658966\n",
      "Epoch 16, CIFAR-10 Batch 2:  Loss: 0.6323250532150269 - Accuracy: 0.5320000114440918\n",
      "Epoch 16, CIFAR-10 Batch 3:  Loss: 0.5863562822341919 - Accuracy: 0.5382000091075897\n",
      "Epoch 16, CIFAR-10 Batch 4:  Loss: 0.622229278087616 - Accuracy: 0.5396000118255615\n",
      "Epoch 16, CIFAR-10 Batch 5:  Loss: 0.742798924446106 - Accuracy: 0.5264000113010406\n",
      "Epoch 17, CIFAR-10 Batch 1:  Loss: 0.7225744724273682 - Accuracy: 0.5310000081062317\n",
      "Epoch 17, CIFAR-10 Batch 2:  Loss: 0.6889665126800537 - Accuracy: 0.5312000086307526\n",
      "Epoch 17, CIFAR-10 Batch 3:  Loss: 0.6108778119087219 - Accuracy: 0.5356000151634216\n",
      "Epoch 17, CIFAR-10 Batch 4:  Loss: 0.6842674612998962 - Accuracy: 0.5246000061035156\n",
      "Epoch 17, CIFAR-10 Batch 5:  Loss: 0.7881137132644653 - Accuracy: 0.516400004863739\n",
      "Epoch 18, CIFAR-10 Batch 1:  Loss: 0.6689845323562622 - Accuracy: 0.5152000072002411\n",
      "Epoch 18, CIFAR-10 Batch 2:  Loss: 0.6494007110595703 - Accuracy: 0.5460000112056732\n",
      "Epoch 18, CIFAR-10 Batch 3:  Loss: 0.6026713848114014 - Accuracy: 0.5212000093460083\n",
      "Epoch 18, CIFAR-10 Batch 4:  Loss: 0.6223523616790771 - Accuracy: 0.5384000039100647\n",
      "Epoch 18, CIFAR-10 Batch 5:  Loss: 0.676468014717102 - Accuracy: 0.532000007390976\n",
      "Epoch 19, CIFAR-10 Batch 1:  Loss: 0.6459325551986694 - Accuracy: 0.5158000097274781\n",
      "Epoch 19, CIFAR-10 Batch 2:  Loss: 0.5829154849052429 - Accuracy: 0.535800010919571\n",
      "Epoch 19, CIFAR-10 Batch 3:  Loss: 0.5095354914665222 - Accuracy: 0.5412000126838684\n",
      "Epoch 19, CIFAR-10 Batch 4:  Loss: 0.6099604368209839 - Accuracy: 0.5434000115394593\n",
      "Epoch 19, CIFAR-10 Batch 5:  Loss: 0.6190524101257324 - Accuracy: 0.5330000064373016\n",
      "Epoch 20, CIFAR-10 Batch 1:  Loss: 0.6489382982254028 - Accuracy: 0.5252000062465668\n",
      "Epoch 20, CIFAR-10 Batch 2:  Loss: 0.5473759770393372 - Accuracy: 0.5420000121593476\n",
      "Epoch 20, CIFAR-10 Batch 3:  Loss: 0.5408724546432495 - Accuracy: 0.542400011062622\n",
      "Epoch 20, CIFAR-10 Batch 4:  Loss: 0.5223557353019714 - Accuracy: 0.5410000066757202\n",
      "Epoch 20, CIFAR-10 Batch 5:  Loss: 0.6209067106246948 - Accuracy: 0.5330000083446502\n",
      "Epoch 21, CIFAR-10 Batch 1:  Loss: 0.5461083650588989 - Accuracy: 0.5208000063896179\n",
      "Epoch 21, CIFAR-10 Batch 2:  Loss: 0.5690996646881104 - Accuracy: 0.5444000124931335\n",
      "Epoch 21, CIFAR-10 Batch 3:  Loss: 0.47951778769493103 - Accuracy: 0.536200008392334\n",
      "Epoch 21, CIFAR-10 Batch 4:  Loss: 0.6457542777061462 - Accuracy: 0.5368000071048736\n",
      "Epoch 21, CIFAR-10 Batch 5:  Loss: 0.5267440676689148 - Accuracy: 0.5404000089168549\n",
      "Epoch 22, CIFAR-10 Batch 1:  Loss: 0.580996036529541 - Accuracy: 0.5008000102043152\n",
      "Epoch 22, CIFAR-10 Batch 2:  Loss: 0.49545374512672424 - Accuracy: 0.5426000092029571\n",
      "Epoch 22, CIFAR-10 Batch 3:  Loss: 0.46046632528305054 - Accuracy: 0.5438000118732452\n",
      "Epoch 22, CIFAR-10 Batch 4:  Loss: 0.5187341570854187 - Accuracy: 0.5364000089168549\n",
      "Epoch 22, CIFAR-10 Batch 5:  Loss: 0.5727357268333435 - Accuracy: 0.5470000102519988\n",
      "Epoch 23, CIFAR-10 Batch 1:  Loss: 0.5304508805274963 - Accuracy: 0.5046000103950501\n",
      "Epoch 23, CIFAR-10 Batch 2:  Loss: 0.5018484592437744 - Accuracy: 0.5324000098705292\n",
      "Epoch 23, CIFAR-10 Batch 3:  Loss: 0.38913649320602417 - Accuracy: 0.544000009059906\n",
      "Epoch 23, CIFAR-10 Batch 4:  Loss: 0.5612318515777588 - Accuracy: 0.5216000063419342\n",
      "Epoch 23, CIFAR-10 Batch 5:  Loss: 0.5480159521102905 - Accuracy: 0.5388000078201294\n",
      "Epoch 24, CIFAR-10 Batch 1:  Loss: 0.5110473036766052 - Accuracy: 0.5228000066280365\n",
      "Epoch 24, CIFAR-10 Batch 2:  Loss: 0.47374725341796875 - Accuracy: 0.537800012588501\n",
      "Epoch 24, CIFAR-10 Batch 3:  Loss: 0.35599568486213684 - Accuracy: 0.5364000089168549\n",
      "Epoch 24, CIFAR-10 Batch 4:  Loss: 0.5366637706756592 - Accuracy: 0.5196000065803528\n",
      "Epoch 24, CIFAR-10 Batch 5:  Loss: 0.49424636363983154 - Accuracy: 0.5316000080108643\n",
      "Epoch 25, CIFAR-10 Batch 1:  Loss: 0.5114227533340454 - Accuracy: 0.5108000082969666\n",
      "Epoch 25, CIFAR-10 Batch 2:  Loss: 0.4797353744506836 - Accuracy: 0.516000004529953\n",
      "Epoch 25, CIFAR-10 Batch 3:  Loss: 0.3152889907360077 - Accuracy: 0.5432000098228454\n",
      "Epoch 25, CIFAR-10 Batch 4:  Loss: 0.4594259262084961 - Accuracy: 0.5176000044345855\n",
      "Epoch 25, CIFAR-10 Batch 5:  Loss: 0.5317801833152771 - Accuracy: 0.5326000113487244\n",
      "Epoch 26, CIFAR-10 Batch 1:  Loss: 0.5163874626159668 - Accuracy: 0.5154000103473664\n",
      "Epoch 26, CIFAR-10 Batch 2:  Loss: 0.3976699709892273 - Accuracy: 0.5366000070571899\n",
      "Epoch 26, CIFAR-10 Batch 3:  Loss: 0.36738747358322144 - Accuracy: 0.5352000102996827\n",
      "Epoch 26, CIFAR-10 Batch 4:  Loss: 0.44000351428985596 - Accuracy: 0.5182000074386597\n",
      "Epoch 26, CIFAR-10 Batch 5:  Loss: 0.4956178069114685 - Accuracy: 0.5398000106811524\n",
      "Epoch 27, CIFAR-10 Batch 1:  Loss: 0.5084196329116821 - Accuracy: 0.5212000088691712\n",
      "Epoch 27, CIFAR-10 Batch 2:  Loss: 0.4414234459400177 - Accuracy: 0.5288000066280365\n",
      "Epoch 27, CIFAR-10 Batch 3:  Loss: 0.3458610475063324 - Accuracy: 0.552400011062622\n",
      "Epoch 27, CIFAR-10 Batch 4:  Loss: 0.4753049910068512 - Accuracy: 0.5202000079154968\n",
      "Epoch 27, CIFAR-10 Batch 5:  Loss: 0.43822818994522095 - Accuracy: 0.5346000094413758\n",
      "Epoch 28, CIFAR-10 Batch 1:  Loss: 0.37839794158935547 - Accuracy: 0.517800009727478\n",
      "Epoch 28, CIFAR-10 Batch 2:  Loss: 0.38295188546180725 - Accuracy: 0.5296000118255615\n",
      "Epoch 28, CIFAR-10 Batch 3:  Loss: 0.3021041750907898 - Accuracy: 0.547400011062622\n",
      "Epoch 28, CIFAR-10 Batch 4:  Loss: 0.40252596139907837 - Accuracy: 0.5162000083923339\n",
      "Epoch 28, CIFAR-10 Batch 5:  Loss: 0.39451488852500916 - Accuracy: 0.5334000105857849\n",
      "Epoch 29, CIFAR-10 Batch 1:  Loss: 0.40065011382102966 - Accuracy: 0.5152000088691712\n",
      "Epoch 29, CIFAR-10 Batch 2:  Loss: 0.38853585720062256 - Accuracy: 0.5342000102996827\n",
      "Epoch 29, CIFAR-10 Batch 3:  Loss: 0.37523186206817627 - Accuracy: 0.5506000113487244\n",
      "Epoch 29, CIFAR-10 Batch 4:  Loss: 0.38222795724868774 - Accuracy: 0.5104000067710877\n",
      "Epoch 29, CIFAR-10 Batch 5:  Loss: 0.35499751567840576 - Accuracy: 0.5484000096321106\n",
      "Epoch 30, CIFAR-10 Batch 1:  Loss: 0.4271897077560425 - Accuracy: 0.5236000072956085\n",
      "Epoch 30, CIFAR-10 Batch 2:  Loss: 0.39564216136932373 - Accuracy: 0.5342000060081482\n",
      "Epoch 30, CIFAR-10 Batch 3:  Loss: 0.30404576659202576 - Accuracy: 0.559000009059906\n",
      "Epoch 30, CIFAR-10 Batch 4:  Loss: 0.4121796488761902 - Accuracy: 0.5184000084400177\n",
      "Epoch 30, CIFAR-10 Batch 5:  Loss: 0.412871778011322 - Accuracy: 0.5510000112056732\n",
      "Epoch 31, CIFAR-10 Batch 1:  Loss: 0.49078938364982605 - Accuracy: 0.5102000074386597\n",
      "Epoch 31, CIFAR-10 Batch 2:  Loss: 0.27817320823669434 - Accuracy: 0.5462000102996826\n",
      "Epoch 31, CIFAR-10 Batch 3:  Loss: 0.29920074343681335 - Accuracy: 0.5412000081539154\n",
      "Epoch 31, CIFAR-10 Batch 4:  Loss: 0.4061298370361328 - Accuracy: 0.5308000118732452\n",
      "Epoch 31, CIFAR-10 Batch 5:  Loss: 0.28399980068206787 - Accuracy: 0.5356000123023987\n",
      "Epoch 32, CIFAR-10 Batch 1:  Loss: 0.42626291513442993 - Accuracy: 0.5294000098705292\n",
      "Epoch 32, CIFAR-10 Batch 2:  Loss: 0.3547568619251251 - Accuracy: 0.5382000095844269\n",
      "Epoch 32, CIFAR-10 Batch 3:  Loss: 0.237873375415802 - Accuracy: 0.5550000114440918\n",
      "Epoch 32, CIFAR-10 Batch 4:  Loss: 0.312823086977005 - Accuracy: 0.5474000108242035\n",
      "Epoch 32, CIFAR-10 Batch 5:  Loss: 0.30048298835754395 - Accuracy: 0.5476000111103058\n",
      "Epoch 33, CIFAR-10 Batch 1:  Loss: 0.4128075838088989 - Accuracy: 0.5276000080108643\n",
      "Epoch 33, CIFAR-10 Batch 2:  Loss: 0.27920496463775635 - Accuracy: 0.5290000066757202\n",
      "Epoch 33, CIFAR-10 Batch 3:  Loss: 0.278647243976593 - Accuracy: 0.5466000075340272\n",
      "Epoch 33, CIFAR-10 Batch 4:  Loss: 0.32230353355407715 - Accuracy: 0.5296000061035157\n",
      "Epoch 33, CIFAR-10 Batch 5:  Loss: 0.2951079308986664 - Accuracy: 0.5476000096797943\n",
      "Epoch 34, CIFAR-10 Batch 1:  Loss: 0.403103232383728 - Accuracy: 0.5328000075817109\n",
      "Epoch 34, CIFAR-10 Batch 2:  Loss: 0.246329665184021 - Accuracy: 0.5414000089168549\n",
      "Epoch 34, CIFAR-10 Batch 3:  Loss: 0.30085691809654236 - Accuracy: 0.5370000081062317\n",
      "Epoch 34, CIFAR-10 Batch 4:  Loss: 0.3518724739551544 - Accuracy: 0.525200011730194\n",
      "Epoch 34, CIFAR-10 Batch 5:  Loss: 0.28066712617874146 - Accuracy: 0.5462000102996826\n",
      "Epoch 35, CIFAR-10 Batch 1:  Loss: 0.3627348840236664 - Accuracy: 0.5280000088214875\n",
      "Epoch 35, CIFAR-10 Batch 2:  Loss: 0.30015891790390015 - Accuracy: 0.5418000090122223\n",
      "Epoch 35, CIFAR-10 Batch 3:  Loss: 0.31818386912345886 - Accuracy: 0.5310000102519989\n",
      "Epoch 35, CIFAR-10 Batch 4:  Loss: 0.34489405155181885 - Accuracy: 0.5282000141143799\n",
      "Epoch 35, CIFAR-10 Batch 5:  Loss: 0.2976621389389038 - Accuracy: 0.5356000101566315\n",
      "Epoch 36, CIFAR-10 Batch 1:  Loss: 0.37529700994491577 - Accuracy: 0.5406000101566315\n",
      "Epoch 36, CIFAR-10 Batch 2:  Loss: 0.2618562579154968 - Accuracy: 0.5438000121116638\n",
      "Epoch 36, CIFAR-10 Batch 3:  Loss: 0.249433696269989 - Accuracy: 0.5430000107288361\n",
      "Epoch 36, CIFAR-10 Batch 4:  Loss: 0.3237345814704895 - Accuracy: 0.5356000111103058\n",
      "Epoch 36, CIFAR-10 Batch 5:  Loss: 0.25096580386161804 - Accuracy: 0.5392000105381012\n",
      "Epoch 37, CIFAR-10 Batch 1:  Loss: 0.29467183351516724 - Accuracy: 0.537000007390976\n",
      "Epoch 37, CIFAR-10 Batch 2:  Loss: 0.2323017120361328 - Accuracy: 0.5538000092506409\n",
      "Epoch 37, CIFAR-10 Batch 3:  Loss: 0.2800471782684326 - Accuracy: 0.5318000094890595\n",
      "Epoch 37, CIFAR-10 Batch 4:  Loss: 0.3426191210746765 - Accuracy: 0.5312000093460083\n",
      "Epoch 37, CIFAR-10 Batch 5:  Loss: 0.2486887276172638 - Accuracy: 0.5424000134468079\n",
      "Epoch 38, CIFAR-10 Batch 1:  Loss: 0.4469803273677826 - Accuracy: 0.5346000146865845\n",
      "Epoch 38, CIFAR-10 Batch 2:  Loss: 0.3091667890548706 - Accuracy: 0.5382000079154968\n",
      "Epoch 38, CIFAR-10 Batch 3:  Loss: 0.18569248914718628 - Accuracy: 0.530800009727478\n",
      "Epoch 38, CIFAR-10 Batch 4:  Loss: 0.29726871848106384 - Accuracy: 0.5370000076293945\n",
      "Epoch 38, CIFAR-10 Batch 5:  Loss: 0.2312055230140686 - Accuracy: 0.5504000079631806\n",
      "Epoch 39, CIFAR-10 Batch 1:  Loss: 0.2952097952365875 - Accuracy: 0.5428000078201294\n",
      "Epoch 39, CIFAR-10 Batch 2:  Loss: 0.2574249804019928 - Accuracy: 0.5480000092983246\n",
      "Epoch 39, CIFAR-10 Batch 3:  Loss: 0.17327821254730225 - Accuracy: 0.5394000070095062\n",
      "Epoch 39, CIFAR-10 Batch 4:  Loss: 0.3148810863494873 - Accuracy: 0.5236000056266785\n",
      "Epoch 39, CIFAR-10 Batch 5:  Loss: 0.2651987671852112 - Accuracy: 0.5486000099182129\n",
      "Epoch 40, CIFAR-10 Batch 1:  Loss: 0.29200974106788635 - Accuracy: 0.5370000095367432\n",
      "Epoch 40, CIFAR-10 Batch 2:  Loss: 0.19601818919181824 - Accuracy: 0.5456000051498413\n",
      "Epoch 40, CIFAR-10 Batch 3:  Loss: 0.20013609528541565 - Accuracy: 0.5420000069141387\n",
      "Epoch 40, CIFAR-10 Batch 4:  Loss: 0.3230997920036316 - Accuracy: 0.5138000042438507\n",
      "Epoch 40, CIFAR-10 Batch 5:  Loss: 0.2630484998226166 - Accuracy: 0.5338000137805938\n",
      "Epoch 41, CIFAR-10 Batch 1:  Loss: 0.34911230206489563 - Accuracy: 0.548200008392334\n",
      "Epoch 41, CIFAR-10 Batch 2:  Loss: 0.2310945689678192 - Accuracy: 0.5428000087738037\n",
      "Epoch 41, CIFAR-10 Batch 3:  Loss: 0.21363520622253418 - Accuracy: 0.5366000034809113\n",
      "Epoch 41, CIFAR-10 Batch 4:  Loss: 0.2977241277694702 - Accuracy: 0.5314000084400177\n",
      "Epoch 41, CIFAR-10 Batch 5:  Loss: 0.1777026355266571 - Accuracy: 0.5478000066280365\n",
      "Epoch 42, CIFAR-10 Batch 1:  Loss: 0.3040865659713745 - Accuracy: 0.535200012922287\n",
      "Epoch 42, CIFAR-10 Batch 2:  Loss: 0.261027991771698 - Accuracy: 0.5310000104904175\n",
      "Epoch 42, CIFAR-10 Batch 3:  Loss: 0.18700502812862396 - Accuracy: 0.5362000098228454\n",
      "Epoch 42, CIFAR-10 Batch 4:  Loss: 0.19873470067977905 - Accuracy: 0.5388000059127808\n",
      "Epoch 42, CIFAR-10 Batch 5:  Loss: 0.26405560970306396 - Accuracy: 0.5302000119686127\n",
      "Epoch 43, CIFAR-10 Batch 1:  Loss: 0.31345051527023315 - Accuracy: 0.5446000061035157\n",
      "Epoch 43, CIFAR-10 Batch 2:  Loss: 0.18526679277420044 - Accuracy: 0.5394000115394593\n",
      "Epoch 43, CIFAR-10 Batch 3:  Loss: 0.19081149995326996 - Accuracy: 0.5398000104427337\n",
      "Epoch 43, CIFAR-10 Batch 4:  Loss: 0.3951564133167267 - Accuracy: 0.5310000076293945\n",
      "Epoch 43, CIFAR-10 Batch 5:  Loss: 0.24858802556991577 - Accuracy: 0.5230000085830688\n",
      "Epoch 44, CIFAR-10 Batch 1:  Loss: 0.2642952799797058 - Accuracy: 0.5330000100135803\n",
      "Epoch 44, CIFAR-10 Batch 2:  Loss: 0.20588064193725586 - Accuracy: 0.5402000100612641\n",
      "Epoch 44, CIFAR-10 Batch 3:  Loss: 0.17829561233520508 - Accuracy: 0.5420000100135803\n",
      "Epoch 44, CIFAR-10 Batch 4:  Loss: 0.24100595712661743 - Accuracy: 0.5318000111579895\n",
      "Epoch 44, CIFAR-10 Batch 5:  Loss: 0.3592456579208374 - Accuracy: 0.5184000074863434\n",
      "Epoch 45, CIFAR-10 Batch 1:  Loss: 0.31632697582244873 - Accuracy: 0.5376000082492829\n",
      "Epoch 45, CIFAR-10 Batch 2:  Loss: 0.2505494952201843 - Accuracy: 0.5230000061988831\n",
      "Epoch 45, CIFAR-10 Batch 3:  Loss: 0.1667889654636383 - Accuracy: 0.5300000088214875\n",
      "Epoch 45, CIFAR-10 Batch 4:  Loss: 0.1967196762561798 - Accuracy: 0.5418000106811524\n",
      "Epoch 45, CIFAR-10 Batch 5:  Loss: 0.23788011074066162 - Accuracy: 0.537200010061264\n",
      "Epoch 46, CIFAR-10 Batch 1:  Loss: 0.3104921579360962 - Accuracy: 0.530800008058548\n",
      "Epoch 46, CIFAR-10 Batch 2:  Loss: 0.2280520498752594 - Accuracy: 0.5408000087738037\n",
      "Epoch 46, CIFAR-10 Batch 3:  Loss: 0.1419130265712738 - Accuracy: 0.5304000117778778\n",
      "Epoch 46, CIFAR-10 Batch 4:  Loss: 0.3429095447063446 - Accuracy: 0.5310000078678131\n",
      "Epoch 46, CIFAR-10 Batch 5:  Loss: 0.2284087985754013 - Accuracy: 0.5242000083923339\n",
      "Epoch 47, CIFAR-10 Batch 1:  Loss: 0.25417953729629517 - Accuracy: 0.5370000100135803\n",
      "Epoch 47, CIFAR-10 Batch 2:  Loss: 0.18767428398132324 - Accuracy: 0.5314000077247619\n",
      "Epoch 47, CIFAR-10 Batch 3:  Loss: 0.17649653553962708 - Accuracy: 0.5242000095844269\n",
      "Epoch 47, CIFAR-10 Batch 4:  Loss: 0.27636241912841797 - Accuracy: 0.5250000083446502\n",
      "Epoch 47, CIFAR-10 Batch 5:  Loss: 0.21911004185676575 - Accuracy: 0.5316000094413758\n",
      "Epoch 48, CIFAR-10 Batch 1:  Loss: 0.32551467418670654 - Accuracy: 0.5310000102519989\n",
      "Epoch 48, CIFAR-10 Batch 2:  Loss: 0.14026124775409698 - Accuracy: 0.5366000092029571\n",
      "Epoch 48, CIFAR-10 Batch 3:  Loss: 0.1705961525440216 - Accuracy: 0.5322000048160553\n",
      "Epoch 48, CIFAR-10 Batch 4:  Loss: 0.1979990005493164 - Accuracy: 0.5196000096797944\n",
      "Epoch 48, CIFAR-10 Batch 5:  Loss: 0.21201671659946442 - Accuracy: 0.5332000110149383\n",
      "Epoch 49, CIFAR-10 Batch 1:  Loss: 0.2318505346775055 - Accuracy: 0.5480000143051147\n",
      "Epoch 49, CIFAR-10 Batch 2:  Loss: 0.19136038422584534 - Accuracy: 0.5338000075817109\n",
      "Epoch 49, CIFAR-10 Batch 3:  Loss: 0.1454850137233734 - Accuracy: 0.5278000104427337\n",
      "Epoch 49, CIFAR-10 Batch 4:  Loss: 0.20243395864963531 - Accuracy: 0.5352000069618225\n",
      "Epoch 49, CIFAR-10 Batch 5:  Loss: 0.2373514473438263 - Accuracy: 0.5406000099182129\n",
      "Epoch 50, CIFAR-10 Batch 1:  Loss: 0.22227028012275696 - Accuracy: 0.5450000095367432\n",
      "Epoch 50, CIFAR-10 Batch 2:  Loss: 0.1602221429347992 - Accuracy: 0.5306000080108643\n",
      "Epoch 50, CIFAR-10 Batch 3:  Loss: 0.15549920499324799 - Accuracy: 0.5302000122070313\n",
      "Epoch 50, CIFAR-10 Batch 4:  Loss: 0.16366589069366455 - Accuracy: 0.5400000069141387\n",
      "Epoch 50, CIFAR-10 Batch 5:  Loss: 0.13955095410346985 - Accuracy: 0.5358000113964081\n",
      "Epoch 51, CIFAR-10 Batch 1:  Loss: 0.1863747239112854 - Accuracy: 0.5416000113487244\n",
      "Epoch 51, CIFAR-10 Batch 2:  Loss: 0.1762443333864212 - Accuracy: 0.5284000039100647\n",
      "Epoch 51, CIFAR-10 Batch 3:  Loss: 0.10329200327396393 - Accuracy: 0.5394000084400177\n",
      "Epoch 51, CIFAR-10 Batch 4:  Loss: 0.22399990260601044 - Accuracy: 0.5338000102043152\n",
      "Epoch 51, CIFAR-10 Batch 5:  Loss: 0.17587235569953918 - Accuracy: 0.5330000069141388\n",
      "Epoch 52, CIFAR-10 Batch 1:  Loss: 0.22114020586013794 - Accuracy: 0.5430000110864639\n",
      "Epoch 52, CIFAR-10 Batch 2:  Loss: 0.2050114870071411 - Accuracy: 0.5274000060558319\n",
      "Epoch 52, CIFAR-10 Batch 3:  Loss: 0.14637234807014465 - Accuracy: 0.5226000113487244\n",
      "Epoch 52, CIFAR-10 Batch 4:  Loss: 0.2388683259487152 - Accuracy: 0.5302000060081482\n",
      "Epoch 52, CIFAR-10 Batch 5:  Loss: 0.17253561317920685 - Accuracy: 0.5258000075817109\n",
      "Epoch 53, CIFAR-10 Batch 1:  Loss: 0.18660494685173035 - Accuracy: 0.5468000085353851\n",
      "Epoch 53, CIFAR-10 Batch 2:  Loss: 0.2057843655347824 - Accuracy: 0.5306000061035157\n",
      "Epoch 53, CIFAR-10 Batch 3:  Loss: 0.08992519974708557 - Accuracy: 0.5434000105857849\n",
      "Epoch 53, CIFAR-10 Batch 4:  Loss: 0.16020993888378143 - Accuracy: 0.542200006723404\n",
      "Epoch 53, CIFAR-10 Batch 5:  Loss: 0.19087323546409607 - Accuracy: 0.5258000090122222\n",
      "Epoch 54, CIFAR-10 Batch 1:  Loss: 0.11736243218183517 - Accuracy: 0.546400012254715\n",
      "Epoch 54, CIFAR-10 Batch 2:  Loss: 0.10983801633119583 - Accuracy: 0.5286000068187714\n",
      "Epoch 54, CIFAR-10 Batch 3:  Loss: 0.07996252924203873 - Accuracy: 0.5344000091552734\n",
      "Epoch 54, CIFAR-10 Batch 4:  Loss: 0.1828472912311554 - Accuracy: 0.5350000107288361\n",
      "Epoch 54, CIFAR-10 Batch 5:  Loss: 0.16587431728839874 - Accuracy: 0.5110000064373016\n",
      "Epoch 55, CIFAR-10 Batch 1:  Loss: 0.15815052390098572 - Accuracy: 0.5382000133991242\n",
      "Epoch 55, CIFAR-10 Batch 2:  Loss: 0.16258306801319122 - Accuracy: 0.5340000095367432\n",
      "Epoch 55, CIFAR-10 Batch 3:  Loss: 0.06901166588068008 - Accuracy: 0.5332000093460083\n",
      "Epoch 55, CIFAR-10 Batch 4:  Loss: 0.16494803130626678 - Accuracy: 0.5380000054836274\n",
      "Epoch 55, CIFAR-10 Batch 5:  Loss: 0.18445676565170288 - Accuracy: 0.5230000121593475\n",
      "Epoch 56, CIFAR-10 Batch 1:  Loss: 0.2147701233625412 - Accuracy: 0.534600011587143\n",
      "Epoch 56, CIFAR-10 Batch 2:  Loss: 0.17831166088581085 - Accuracy: 0.5282000060081482\n",
      "Epoch 56, CIFAR-10 Batch 3:  Loss: 0.06696807593107224 - Accuracy: 0.5372000112533569\n",
      "Epoch 56, CIFAR-10 Batch 4:  Loss: 0.19660618901252747 - Accuracy: 0.5252000091075897\n",
      "Epoch 56, CIFAR-10 Batch 5:  Loss: 0.1598147451877594 - Accuracy: 0.533800009727478\n",
      "Epoch 57, CIFAR-10 Batch 1:  Loss: 0.13031983375549316 - Accuracy: 0.5454000051021576\n",
      "Epoch 57, CIFAR-10 Batch 2:  Loss: 0.1853000372648239 - Accuracy: 0.5300000083446502\n",
      "Epoch 57, CIFAR-10 Batch 3:  Loss: 0.08045890182256699 - Accuracy: 0.5396000118255615\n",
      "Epoch 57, CIFAR-10 Batch 4:  Loss: 0.16477128863334656 - Accuracy: 0.53360001039505\n",
      "Epoch 57, CIFAR-10 Batch 5:  Loss: 0.17475707828998566 - Accuracy: 0.522800009727478\n",
      "Epoch 58, CIFAR-10 Batch 1:  Loss: 0.22232931852340698 - Accuracy: 0.5360000114440918\n",
      "Epoch 58, CIFAR-10 Batch 2:  Loss: 0.1259109526872635 - Accuracy: 0.5328000106811523\n",
      "Epoch 58, CIFAR-10 Batch 3:  Loss: 0.09669658541679382 - Accuracy: 0.5364000115394593\n",
      "Epoch 58, CIFAR-10 Batch 4:  Loss: 0.180129736661911 - Accuracy: 0.5390000095367432\n",
      "Epoch 58, CIFAR-10 Batch 5:  Loss: 0.16860294342041016 - Accuracy: 0.5252000095844269\n",
      "Epoch 59, CIFAR-10 Batch 1:  Loss: 0.16377122700214386 - Accuracy: 0.543400012254715\n",
      "Epoch 59, CIFAR-10 Batch 2:  Loss: 0.11094854772090912 - Accuracy: 0.5356000099182129\n",
      "Epoch 59, CIFAR-10 Batch 3:  Loss: 0.09973263740539551 - Accuracy: 0.5406000101566315\n",
      "Epoch 59, CIFAR-10 Batch 4:  Loss: 0.18239760398864746 - Accuracy: 0.5448000078201294\n",
      "Epoch 59, CIFAR-10 Batch 5:  Loss: 0.08777730166912079 - Accuracy: 0.5360000081062317\n",
      "Epoch 60, CIFAR-10 Batch 1:  Loss: 0.1416451781988144 - Accuracy: 0.5468000104427337\n",
      "Epoch 60, CIFAR-10 Batch 2:  Loss: 0.1380014419555664 - Accuracy: 0.5322000088691712\n",
      "Epoch 60, CIFAR-10 Batch 3:  Loss: 0.07053599506616592 - Accuracy: 0.5344000086784363\n",
      "Epoch 60, CIFAR-10 Batch 4:  Loss: 0.11741762608289719 - Accuracy: 0.5510000085830689\n",
      "Epoch 60, CIFAR-10 Batch 5:  Loss: 0.09213072061538696 - Accuracy: 0.5328000111579895\n",
      "Epoch 61, CIFAR-10 Batch 1:  Loss: 0.15625888109207153 - Accuracy: 0.5480000088214875\n",
      "Epoch 61, CIFAR-10 Batch 2:  Loss: 0.13910886645317078 - Accuracy: 0.5408000106811524\n",
      "Epoch 61, CIFAR-10 Batch 3:  Loss: 0.0709957480430603 - Accuracy: 0.5368000085353851\n",
      "Epoch 61, CIFAR-10 Batch 4:  Loss: 0.11527152359485626 - Accuracy: 0.5448000087738037\n",
      "Epoch 61, CIFAR-10 Batch 5:  Loss: 0.10843310505151749 - Accuracy: 0.5216000106334686\n",
      "Epoch 62, CIFAR-10 Batch 1:  Loss: 0.1871875822544098 - Accuracy: 0.5340000116825103\n",
      "Epoch 62, CIFAR-10 Batch 2:  Loss: 0.17001356184482574 - Accuracy: 0.5342000048160553\n",
      "Epoch 62, CIFAR-10 Batch 3:  Loss: 0.14480802416801453 - Accuracy: 0.5330000061988831\n",
      "Epoch 62, CIFAR-10 Batch 4:  Loss: 0.1695885956287384 - Accuracy: 0.5264000060558319\n",
      "Epoch 62, CIFAR-10 Batch 5:  Loss: 0.10305313020944595 - Accuracy: 0.5330000100135803\n",
      "Epoch 63, CIFAR-10 Batch 1:  Loss: 0.1874106228351593 - Accuracy: 0.527800008058548\n",
      "Epoch 63, CIFAR-10 Batch 2:  Loss: 0.13219863176345825 - Accuracy: 0.5318000073432922\n",
      "Epoch 63, CIFAR-10 Batch 3:  Loss: 0.12445498257875443 - Accuracy: 0.5416000080108643\n",
      "Epoch 63, CIFAR-10 Batch 4:  Loss: 0.24380549788475037 - Accuracy: 0.536000009059906\n",
      "Epoch 63, CIFAR-10 Batch 5:  Loss: 0.13504666090011597 - Accuracy: 0.5108000094890595\n",
      "Epoch 64, CIFAR-10 Batch 1:  Loss: 0.204062819480896 - Accuracy: 0.5390000083446502\n",
      "Epoch 64, CIFAR-10 Batch 2:  Loss: 0.08807393908500671 - Accuracy: 0.5464000089168548\n",
      "Epoch 64, CIFAR-10 Batch 3:  Loss: 0.05960932374000549 - Accuracy: 0.5452000112533569\n",
      "Epoch 64, CIFAR-10 Batch 4:  Loss: 0.12351099401712418 - Accuracy: 0.5466000082492828\n",
      "Epoch 64, CIFAR-10 Batch 5:  Loss: 0.12623055279254913 - Accuracy: 0.5130000047683716\n",
      "Epoch 65, CIFAR-10 Batch 1:  Loss: 0.2349551022052765 - Accuracy: 0.5334000070095062\n",
      "Epoch 65, CIFAR-10 Batch 2:  Loss: 0.08100880682468414 - Accuracy: 0.5372000086307526\n",
      "Epoch 65, CIFAR-10 Batch 3:  Loss: 0.04364395886659622 - Accuracy: 0.5492000098228454\n",
      "Epoch 65, CIFAR-10 Batch 4:  Loss: 0.1656191200017929 - Accuracy: 0.53960000872612\n",
      "Epoch 65, CIFAR-10 Batch 5:  Loss: 0.12528587877750397 - Accuracy: 0.5330000088214875\n",
      "Epoch 66, CIFAR-10 Batch 1:  Loss: 0.14989016950130463 - Accuracy: 0.5382000088691712\n",
      "Epoch 66, CIFAR-10 Batch 2:  Loss: 0.0976787656545639 - Accuracy: 0.5384000115394593\n",
      "Epoch 66, CIFAR-10 Batch 3:  Loss: 0.10734855383634567 - Accuracy: 0.5370000121593476\n",
      "Epoch 66, CIFAR-10 Batch 4:  Loss: 0.1075364202260971 - Accuracy: 0.5346000123023987\n",
      "Epoch 66, CIFAR-10 Batch 5:  Loss: 0.10797609388828278 - Accuracy: 0.5210000081062317\n",
      "Epoch 67, CIFAR-10 Batch 1:  Loss: 0.1246873289346695 - Accuracy: 0.5296000063419342\n",
      "Epoch 67, CIFAR-10 Batch 2:  Loss: 0.1549326777458191 - Accuracy: 0.5238000123500824\n",
      "Epoch 67, CIFAR-10 Batch 3:  Loss: 0.11738000065088272 - Accuracy: 0.5368000102043152\n",
      "Epoch 67, CIFAR-10 Batch 4:  Loss: 0.12999141216278076 - Accuracy: 0.5388000104427337\n",
      "Epoch 67, CIFAR-10 Batch 5:  Loss: 0.15962229669094086 - Accuracy: 0.523600011587143\n",
      "Epoch 68, CIFAR-10 Batch 1:  Loss: 0.12310764938592911 - Accuracy: 0.5256000092029571\n",
      "Epoch 68, CIFAR-10 Batch 2:  Loss: 0.11716353893280029 - Accuracy: 0.532400009393692\n",
      "Epoch 68, CIFAR-10 Batch 3:  Loss: 0.08788222074508667 - Accuracy: 0.5446000084877014\n",
      "Epoch 68, CIFAR-10 Batch 4:  Loss: 0.15232382714748383 - Accuracy: 0.5140000042915345\n",
      "Epoch 68, CIFAR-10 Batch 5:  Loss: 0.0740080326795578 - Accuracy: 0.5208000071048736\n",
      "Epoch 69, CIFAR-10 Batch 1:  Loss: 0.08652518689632416 - Accuracy: 0.5394000108242035\n",
      "Epoch 69, CIFAR-10 Batch 2:  Loss: 0.12712760269641876 - Accuracy: 0.5244000036716461\n",
      "Epoch 69, CIFAR-10 Batch 3:  Loss: 0.09020695090293884 - Accuracy: 0.5376000082492829\n",
      "Epoch 69, CIFAR-10 Batch 4:  Loss: 0.13152280449867249 - Accuracy: 0.5240000085830688\n",
      "Epoch 69, CIFAR-10 Batch 5:  Loss: 0.0915210098028183 - Accuracy: 0.5192000079154968\n",
      "Epoch 70, CIFAR-10 Batch 1:  Loss: 0.10751566290855408 - Accuracy: 0.5332000088691712\n",
      "Epoch 70, CIFAR-10 Batch 2:  Loss: 0.1090865358710289 - Accuracy: 0.5362000048160553\n",
      "Epoch 70, CIFAR-10 Batch 3:  Loss: 0.0661626011133194 - Accuracy: 0.5452000124454498\n",
      "Epoch 70, CIFAR-10 Batch 4:  Loss: 0.07998943328857422 - Accuracy: 0.5418000123500823\n",
      "Epoch 70, CIFAR-10 Batch 5:  Loss: 0.06689940392971039 - Accuracy: 0.5148000078201294\n",
      "Epoch 71, CIFAR-10 Batch 1:  Loss: 0.12530741095542908 - Accuracy: 0.5318000075817109\n",
      "Epoch 71, CIFAR-10 Batch 2:  Loss: 0.12666258215904236 - Accuracy: 0.5410000071525574\n",
      "Epoch 71, CIFAR-10 Batch 3:  Loss: 0.05754426121711731 - Accuracy: 0.5368000094890595\n",
      "Epoch 71, CIFAR-10 Batch 4:  Loss: 0.1271839290857315 - Accuracy: 0.5214000108242035\n",
      "Epoch 71, CIFAR-10 Batch 5:  Loss: 0.07650154829025269 - Accuracy: 0.5300000078678131\n",
      "Epoch 72, CIFAR-10 Batch 1:  Loss: 0.07832068204879761 - Accuracy: 0.5282000052928925\n",
      "Epoch 72, CIFAR-10 Batch 2:  Loss: 0.06235159933567047 - Accuracy: 0.5340000097751617\n",
      "Epoch 72, CIFAR-10 Batch 3:  Loss: 0.08603481203317642 - Accuracy: 0.5278000075817109\n",
      "Epoch 72, CIFAR-10 Batch 4:  Loss: 0.07985417544841766 - Accuracy: 0.5246000072956085\n",
      "Epoch 72, CIFAR-10 Batch 5:  Loss: 0.08771199733018875 - Accuracy: 0.5288000075817109\n",
      "Epoch 73, CIFAR-10 Batch 1:  Loss: 0.11866351217031479 - Accuracy: 0.5294000098705292\n",
      "Epoch 73, CIFAR-10 Batch 2:  Loss: 0.07874104380607605 - Accuracy: 0.5324000084400177\n",
      "Epoch 73, CIFAR-10 Batch 3:  Loss: 0.07419648766517639 - Accuracy: 0.5348000066280365\n",
      "Epoch 73, CIFAR-10 Batch 4:  Loss: 0.07042760401964188 - Accuracy: 0.530600011587143\n",
      "Epoch 73, CIFAR-10 Batch 5:  Loss: 0.06499528139829636 - Accuracy: 0.5160000095367432\n",
      "Epoch 74, CIFAR-10 Batch 1:  Loss: 0.10345789790153503 - Accuracy: 0.530200010061264\n",
      "Epoch 74, CIFAR-10 Batch 2:  Loss: 0.07204416394233704 - Accuracy: 0.5328000085353851\n",
      "Epoch 74, CIFAR-10 Batch 3:  Loss: 0.060163937509059906 - Accuracy: 0.5398000054359436\n",
      "Epoch 74, CIFAR-10 Batch 4:  Loss: 0.09065268933773041 - Accuracy: 0.5202000045776367\n",
      "Epoch 74, CIFAR-10 Batch 5:  Loss: 0.06838075071573257 - Accuracy: 0.5162000069618226\n",
      "Epoch 75, CIFAR-10 Batch 1:  Loss: 0.1279999166727066 - Accuracy: 0.536200008392334\n",
      "Epoch 75, CIFAR-10 Batch 2:  Loss: 0.11178648471832275 - Accuracy: 0.527400006532669\n",
      "Epoch 75, CIFAR-10 Batch 3:  Loss: 0.05356181785464287 - Accuracy: 0.5308000085353851\n",
      "Epoch 75, CIFAR-10 Batch 4:  Loss: 0.10174091160297394 - Accuracy: 0.5256000108718872\n",
      "Epoch 75, CIFAR-10 Batch 5:  Loss: 0.05266949534416199 - Accuracy: 0.5100000066757202\n",
      "Epoch 76, CIFAR-10 Batch 1:  Loss: 0.1004706397652626 - Accuracy: 0.5320000112056732\n",
      "Epoch 76, CIFAR-10 Batch 2:  Loss: 0.1383393108844757 - Accuracy: 0.531800009727478\n",
      "Epoch 76, CIFAR-10 Batch 3:  Loss: 0.03336767107248306 - Accuracy: 0.5396000118255615\n",
      "Epoch 76, CIFAR-10 Batch 4:  Loss: 0.10738596320152283 - Accuracy: 0.5190000100135803\n",
      "Epoch 76, CIFAR-10 Batch 5:  Loss: 0.04074454307556152 - Accuracy: 0.5158000082969666\n",
      "Epoch 77, CIFAR-10 Batch 1:  Loss: 0.07377702742815018 - Accuracy: 0.5338000090122222\n",
      "Epoch 77, CIFAR-10 Batch 2:  Loss: 0.0862312912940979 - Accuracy: 0.5386000068187714\n",
      "Epoch 77, CIFAR-10 Batch 3:  Loss: 0.05403221398591995 - Accuracy: 0.5388000118732452\n",
      "Epoch 77, CIFAR-10 Batch 4:  Loss: 0.16430014371871948 - Accuracy: 0.5256000084877014\n",
      "Epoch 77, CIFAR-10 Batch 5:  Loss: 0.02924804575741291 - Accuracy: 0.5238000066280365\n",
      "Epoch 78, CIFAR-10 Batch 1:  Loss: 0.12009696662425995 - Accuracy: 0.5344000074863434\n",
      "Epoch 78, CIFAR-10 Batch 2:  Loss: 0.09317648410797119 - Accuracy: 0.5256000111103057\n",
      "Epoch 78, CIFAR-10 Batch 3:  Loss: 0.06383031606674194 - Accuracy: 0.5384000089168549\n",
      "Epoch 78, CIFAR-10 Batch 4:  Loss: 0.07000283896923065 - Accuracy: 0.5320000097751617\n",
      "Epoch 78, CIFAR-10 Batch 5:  Loss: 0.04358561336994171 - Accuracy: 0.5150000088214874\n",
      "Epoch 79, CIFAR-10 Batch 1:  Loss: 0.11826922744512558 - Accuracy: 0.5286000084877014\n",
      "Epoch 79, CIFAR-10 Batch 2:  Loss: 0.07017584145069122 - Accuracy: 0.5282000074386597\n",
      "Epoch 79, CIFAR-10 Batch 3:  Loss: 0.08275960385799408 - Accuracy: 0.5388000116348267\n",
      "Epoch 79, CIFAR-10 Batch 4:  Loss: 0.10927559435367584 - Accuracy: 0.5210000116825104\n",
      "Epoch 79, CIFAR-10 Batch 5:  Loss: 0.03827055171132088 - Accuracy: 0.5258000113964081\n",
      "Epoch 80, CIFAR-10 Batch 1:  Loss: 0.1394750028848648 - Accuracy: 0.5252000069618226\n",
      "Epoch 80, CIFAR-10 Batch 2:  Loss: 0.10375231504440308 - Accuracy: 0.5376000101566315\n",
      "Epoch 80, CIFAR-10 Batch 3:  Loss: 0.07948312908411026 - Accuracy: 0.5380000109672547\n",
      "Epoch 80, CIFAR-10 Batch 4:  Loss: 0.06311044096946716 - Accuracy: 0.5320000095367432\n",
      "Epoch 80, CIFAR-10 Batch 5:  Loss: 0.04678937792778015 - Accuracy: 0.5282000069618225\n"
     ]
    }
   ],
   "source": [
    "\"\"\"\n",
    "DON'T MODIFY ANYTHING IN THIS CELL\n",
    "\"\"\"\n",
    "save_model_path = './image_classification'\n",
    "\n",
    "print('Training...')\n",
    "with tf.Session() as sess:\n",
    "    # Initializing the variables\n",
    "    sess.run(tf.global_variables_initializer())\n",
    "    \n",
    "    # Training cycle\n",
    "    for epoch in range(epochs):\n",
    "        # Loop over all batches\n",
    "        n_batches = 5\n",
    "        for batch_i in range(1, n_batches + 1):\n",
    "            for batch_features, batch_labels in helper.load_preprocess_training_batch(batch_i, batch_size):\n",
    "                train_neural_network(sess, optimizer, keep_probability, batch_features, batch_labels)\n",
    "            print('Epoch {:>2}, CIFAR-10 Batch {}:  '.format(epoch + 1, batch_i), end='')\n",
    "            loss, acc = print_stats(sess, batch_features, batch_labels, cost, accuracy)\n",
    "            if acc > min_accuracy_to_stop:\n",
    "                break\n",
    "        else:\n",
    "            continue\n",
    "        break\n",
    "                \n",
    "            \n",
    "    # Save Model\n",
    "    saver = tf.train.Saver()\n",
    "    save_path = saver.save(sess, save_model_path)"
   ]
  },
  {
   "cell_type": "markdown",
   "metadata": {
    "deletable": true,
    "editable": true
   },
   "source": [
    "# Checkpoint\n",
    "The model has been saved to disk.\n",
    "## Test Model\n",
    "Test your model against the test dataset.  This will be your final accuracy. You should have an accuracy greater than 50%. If you don't, keep tweaking the model architecture and parameters."
   ]
  },
  {
   "cell_type": "code",
   "execution_count": 69,
   "metadata": {
    "collapsed": false,
    "deletable": true,
    "editable": true
   },
   "outputs": [
    {
     "name": "stdout",
     "output_type": "stream",
     "text": [
      "INFO:tensorflow:Restoring parameters from ./image_classification\n",
      "Testing Accuracy: 0.5226463607594937\n",
      "\n"
     ]
    },
    {
     "data": {
      "image/png": "[encoded data removed]",
      "text/plain": [
       "<matplotlib.figure.Figure at 0x7fcb65effdd8>"
      ]
     },
     "metadata": {
      "image/png": {
       "height": 319,
       "width": 355
      }
     },
     "output_type": "display_data"
    }
   ],
   "source": [
    "\"\"\"\n",
    "DON'T MODIFY ANYTHING IN THIS CELL\n",
    "\"\"\"\n",
    "%matplotlib inline\n",
    "%config InlineBackend.figure_format = 'retina'\n",
    "\n",
    "import tensorflow as tf\n",
    "import pickle\n",
    "import helper\n",
    "import random\n",
    "\n",
    "# Set batch size if not already set\n",
    "try:\n",
    "    if batch_size:\n",
    "        pass\n",
    "except NameError:\n",
    "    batch_size = 64\n",
    "\n",
    "save_model_path = './image_classification'\n",
    "n_samples = 4\n",
    "top_n_predictions = 3\n",
    "\n",
    "def test_model():\n",
    "    \"\"\"\n",
    "    Test the saved model against the test dataset\n",
    "    \"\"\"\n",
    "\n",
    "    test_features, test_labels = pickle.load(open('preprocess_test.p', mode='rb'))\n",
    "    loaded_graph = tf.Graph()\n",
    "\n",
    "    with tf.Session(graph=loaded_graph) as sess:\n",
    "        # Load model\n",
    "        loader = tf.train.import_meta_graph(save_model_path + '.meta')\n",
    "        loader.restore(sess, save_model_path)\n",
    "\n",
    "        # Get Tensors from loaded model\n",
    "        loaded_x = loaded_graph.get_tensor_by_name('x:0')\n",
    "        loaded_y = loaded_graph.get_tensor_by_name('y:0')\n",
    "        loaded_keep_prob = loaded_graph.get_tensor_by_name('keep_prob:0')\n",
    "        loaded_logits = loaded_graph.get_tensor_by_name('logits:0')\n",
    "        loaded_acc = loaded_graph.get_tensor_by_name('accuracy:0')\n",
    "        \n",
    "        # Get accuracy in batches for memory limitations\n",
    "        test_batch_acc_total = 0\n",
    "        test_batch_count = 0\n",
    "        \n",
    "        for test_feature_batch, test_label_batch in helper.batch_features_labels(test_features, test_labels, batch_size):\n",
    "            test_batch_acc_total += sess.run(\n",
    "                loaded_acc,\n",
    "                feed_dict={loaded_x: test_feature_batch, loaded_y: test_label_batch, loaded_keep_prob: 1.0})\n",
    "            test_batch_count += 1\n",
    "\n",
    "        print('Testing Accuracy: {}\\n'.format(test_batch_acc_total/test_batch_count))\n",
    "\n",
    "        # Print Random Samples\n",
    "        random_test_features, random_test_labels = tuple(zip(*random.sample(list(zip(test_features, test_labels)), n_samples)))\n",
    "        random_test_predictions = sess.run(\n",
    "            tf.nn.top_k(tf.nn.softmax(loaded_logits), top_n_predictions),\n",
    "            feed_dict={loaded_x: random_test_features, loaded_y: random_test_labels, loaded_keep_prob: 1.0})\n",
    "        helper.display_image_predictions(random_test_features, random_test_labels, random_test_predictions)\n",
    "\n",
    "\n",
    "test_model()"
   ]
  },
  {
   "cell_type": "markdown",
   "metadata": {
    "deletable": true,
    "editable": true
   },
   "source": [
    "## Why 50-80% Accuracy?\n",
    "You might be wondering why you can't get an accuracy any higher. First things first, 50% isn't bad for a simple CNN.  Pure guessing would get you 10% accuracy. However, you might notice people are getting scores [well above 80%](http://rodrigob.github.io/are_we_there_yet/build/classification_datasets_results.html#43494641522d3130).  That's because we haven't taught you all there is to know about neural networks. We still need to cover a few more techniques.\n",
    "## Submitting This Project\n",
    "When submitting this project, make sure to run all the cells before saving the notebook.  Save the notebook file as \"dlnd_image_classification.ipynb\" and save it as a HTML file under \"File\" -> \"Download as\".  Include the \"helper.py\" and \"problem_unittests.py\" files in your submission."
   ]
  }
 ],
 "metadata": {
  "anaconda-cloud": {},
  "kernelspec": {
   "display_name": "Python 3",
   "language": "python",
   "name": "python3"
  },
  "language_info": {
   "codemirror_mode": {
    "name": "ipython",
    "version": 3
   },
   "file_extension": ".py",
   "mimetype": "text/x-python",
   "name": "python",
   "nbconvert_exporter": "python",
   "pygments_lexer": "ipython3",
   "version": "3.6.1"
  }
 },
 "nbformat": 4,
 "nbformat_minor": 0
}
