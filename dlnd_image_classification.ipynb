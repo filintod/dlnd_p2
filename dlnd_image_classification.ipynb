{
 "cells": [
  {
   "cell_type": "markdown",
   "metadata": {
    "collapsed": true,
    "deletable": true,
    "editable": true
   },
   "source": [
    "# Image Classification\n",
    "In this project, you'll classify images from the [CIFAR-10 dataset](https://www.cs.toronto.edu/~kriz/cifar.html).  The dataset consists of airplanes, dogs, cats, and other objects. You'll preprocess the images, then train a convolutional neural network on all the samples. The images need to be normalized and the labels need to be one-hot encoded.  You'll get to apply what you learned and build a convolutional, max pooling, dropout, and fully connected layers.  At the end, you'll get to see your neural network's predictions on the sample images.\n",
    "## Get the Data\n",
    "Run the following cell to download the [CIFAR-10 dataset for python](https://www.cs.toronto.edu/~kriz/cifar-10-python.tar.gz)."
   ]
  },
  {
   "cell_type": "code",
   "execution_count": 58,
   "metadata": {
    "collapsed": false,
    "deletable": true,
    "editable": true
   },
   "outputs": [
    {
     "name": "stdout",
     "output_type": "stream",
     "text": [
      "All files found!\n"
     ]
    }
   ],
   "source": [
    "\"\"\"\n",
    "DON'T MODIFY ANYTHING IN THIS CELL THAT IS BELOW THIS LINE\n",
    "\"\"\"\n",
    "from urllib.request import urlretrieve\n",
    "from os.path import isfile, isdir\n",
    "from tqdm import tqdm\n",
    "import problem_unittests as tests\n",
    "import tarfile\n",
    "\n",
    "cifar10_dataset_folder_path = 'cifar-10-batches-py'\n",
    "\n",
    "# Use Floyd's cifar-10 dataset if present\n",
    "floyd_cifar10_location = '/input/cifar-10/python.tar.gz'\n",
    "if isfile(floyd_cifar10_location):\n",
    "    tar_gz_path = floyd_cifar10_location\n",
    "else:\n",
    "    tar_gz_path = 'cifar-10-python.tar.gz'\n",
    "\n",
    "class DLProgress(tqdm):\n",
    "    last_block = 0\n",
    "\n",
    "    def hook(self, block_num=1, block_size=1, total_size=None):\n",
    "        self.total = total_size\n",
    "        self.update((block_num - self.last_block) * block_size)\n",
    "        self.last_block = block_num\n",
    "\n",
    "if not isfile(tar_gz_path):\n",
    "    with DLProgress(unit='B', unit_scale=True, miniters=1, desc='CIFAR-10 Dataset') as pbar:\n",
    "        urlretrieve(\n",
    "            'https://www.cs.toronto.edu/~kriz/cifar-10-python.tar.gz',\n",
    "            tar_gz_path,\n",
    "            pbar.hook)\n",
    "\n",
    "if not isdir(cifar10_dataset_folder_path):\n",
    "    with tarfile.open(tar_gz_path) as tar:\n",
    "        tar.extractall()\n",
    "        tar.close()\n",
    "\n",
    "\n",
    "tests.test_folder_path(cifar10_dataset_folder_path)"
   ]
  },
  {
   "cell_type": "markdown",
   "metadata": {
    "deletable": true,
    "editable": true
   },
   "source": [
    "## Explore the Data\n",
    "The dataset is broken into batches to prevent your machine from running out of memory.  The CIFAR-10 dataset consists of 5 batches, named `data_batch_1`, `data_batch_2`, etc.. Each batch contains the labels and images that are one of the following:\n",
    "* airplane\n",
    "* automobile\n",
    "* bird\n",
    "* cat\n",
    "* deer\n",
    "* dog\n",
    "* frog\n",
    "* horse\n",
    "* ship\n",
    "* truck\n",
    "\n",
    "Understanding a dataset is part of making predictions on the data.  Play around with the code cell below by changing the `batch_id` and `sample_id`. The `batch_id` is the id for a batch (1-5). The `sample_id` is the id for a image and label pair in the batch.\n",
    "\n",
    "Ask yourself \"What are all possible labels?\", \"What is the range of values for the image data?\", \"Are the labels in order or random?\".  Answers to questions like these will help you preprocess the data and end up with better predictions."
   ]
  },
  {
   "cell_type": "code",
   "execution_count": 60,
   "metadata": {
    "collapsed": false,
    "deletable": true,
    "editable": true
   },
   "outputs": [
    {
     "name": "stdout",
     "output_type": "stream",
     "text": [
      "\n",
      "Stats of batch 3:\n",
      "Samples: 10000\n",
      "Label Counts: {0: 994, 1: 1042, 2: 965, 3: 997, 4: 990, 5: 1029, 6: 978, 7: 1015, 8: 961, 9: 1029}\n",
      "First 20 Labels: [8, 5, 0, 6, 9, 2, 8, 3, 6, 2, 7, 4, 6, 9, 0, 0, 7, 3, 7, 2]\n",
      "\n",
      "Example of Image 5:\n",
      "Image - Min Value: 9 Max Value: 255\n",
      "Image - Shape: (32, 32, 3)\n",
      "Label - Label Id: 2 Name: bird\n"
     ]
    },
    {
     "data": {
      "image/png": "[encoded data removed]",
      "text/plain": [
       "<matplotlib.figure.Figure at 0x7efdac3ddf60>"
      ]
     },
     "metadata": {
      "image/png": {
       "height": 250,
       "width": 253
      }
     },
     "output_type": "display_data"
    }
   ],
   "source": [
    "%matplotlib inline\n",
    "%config InlineBackend.figure_format = 'retina'\n",
    "\n",
    "import helper\n",
    "import numpy as np\n",
    "\n",
    "# Explore the dataset\n",
    "batch_id = 3\n",
    "sample_id = 5\n",
    "\n",
    "helper.display_stats(cifar10_dataset_folder_path, batch_id, sample_id)"
   ]
  },
  {
   "cell_type": "markdown",
   "metadata": {
    "deletable": true,
    "editable": true
   },
   "source": [
    "## Implement Preprocess Functions\n",
    "### Normalize\n",
    "In the cell below, implement the `normalize` function to take in image data, `x`, and return it as a normalized Numpy array. The values should be in the range of 0 to 1, inclusive.  The return object should be the same shape as `x`."
   ]
  },
  {
   "cell_type": "code",
   "execution_count": 17,
   "metadata": {
    "collapsed": false,
    "deletable": true,
    "editable": true
   },
   "outputs": [
    {
     "name": "stdout",
     "output_type": "stream",
     "text": [
      "Tests Passed\n"
     ]
    }
   ],
   "source": [
    "def normalize(x):\n",
    "    \"\"\"\n",
    "    Normalize a list of sample image data in the range of 0 to 1\n",
    "    : x: List of image data.  The image shape is (32, 32, 3)\n",
    "    : return: Numpy array of normalize data\n",
    "    \"\"\"\n",
    "    # TODO: Implement Function\n",
    "    \n",
    "    return (x - x.min()) / (x.max() - x.min())\n",
    "\n",
    "\n",
    "\"\"\"\n",
    "DON'T MODIFY ANYTHING IN THIS CELL THAT IS BELOW THIS LINE\n",
    "\"\"\"\n",
    "tests.test_normalize(normalize)"
   ]
  },
  {
   "cell_type": "markdown",
   "metadata": {
    "deletable": true,
    "editable": true
   },
   "source": [
    "### One-hot encode\n",
    "Just like the previous code cell, you'll be implementing a function for preprocessing.  This time, you'll implement the `one_hot_encode` function. The input, `x`, are a list of labels.  Implement the function to return the list of labels as One-Hot encoded Numpy array.  The possible values for labels are 0 to 9. The one-hot encoding function should return the same encoding for each value between each call to `one_hot_encode`.  Make sure to save the map of encodings outside the function.\n",
    "\n",
    "Hint: Don't reinvent the wheel."
   ]
  },
  {
   "cell_type": "code",
   "execution_count": 18,
   "metadata": {
    "collapsed": false,
    "deletable": true,
    "editable": true
   },
   "outputs": [
    {
     "data": {
      "text/plain": [
       "LabelBinarizer(neg_label=0, pos_label=1, sparse_output=False)"
      ]
     },
     "execution_count": 18,
     "metadata": {},
     "output_type": "execute_result"
    }
   ],
   "source": [
    "from sklearn.preprocessing import LabelBinarizer\n",
    "label_binarizer = LabelBinarizer()\n",
    "label_binarizer.fit(range(10))"
   ]
  },
  {
   "cell_type": "code",
   "execution_count": 19,
   "metadata": {
    "collapsed": false,
    "deletable": true,
    "editable": true
   },
   "outputs": [
    {
     "name": "stdout",
     "output_type": "stream",
     "text": [
      "Tests Passed\n"
     ]
    }
   ],
   "source": [
    "def one_hot_encode(x):\n",
    "    \"\"\"\n",
    "    One hot encode a list of sample labels. Return a one-hot encoded vector for each label.\n",
    "    : x: List of sample Labels\n",
    "    : return: Numpy array of one-hot encoded labels\n",
    "    \"\"\"\n",
    "    return label_binarizer.transform(x)\n",
    "\n",
    "\"\"\"\n",
    "DON'T MODIFY ANYTHING IN THIS CELL THAT IS BELOW THIS LINE\n",
    "\"\"\"\n",
    "tests.test_one_hot_encode(one_hot_encode)"
   ]
  },
  {
   "cell_type": "markdown",
   "metadata": {
    "deletable": true,
    "editable": true
   },
   "source": [
    "### Randomize Data\n",
    "As you saw from exploring the data above, the order of the samples are randomized.  It doesn't hurt to randomize it again, but you don't need to for this dataset."
   ]
  },
  {
   "cell_type": "markdown",
   "metadata": {
    "deletable": true,
    "editable": true
   },
   "source": [
    "## Preprocess all the data and save it\n",
    "Running the code cell below will preprocess all the CIFAR-10 data and save it to file. The code below also uses 10% of the training data for validation."
   ]
  },
  {
   "cell_type": "code",
   "execution_count": 20,
   "metadata": {
    "collapsed": false,
    "deletable": true,
    "editable": true
   },
   "outputs": [],
   "source": [
    "\"\"\"\n",
    "DON'T MODIFY ANYTHING IN THIS CELL\n",
    "\"\"\"\n",
    "# Preprocess Training, Validation, and Testing Data\n",
    "helper.preprocess_and_save_data(cifar10_dataset_folder_path, normalize, one_hot_encode)"
   ]
  },
  {
   "cell_type": "markdown",
   "metadata": {
    "deletable": true,
    "editable": true
   },
   "source": [
    "# Check Point\n",
    "This is your first checkpoint.  If you ever decide to come back to this notebook or have to restart the notebook, you can start from here.  The preprocessed data has been saved to disk."
   ]
  },
  {
   "cell_type": "code",
   "execution_count": 1,
   "metadata": {
    "collapsed": true,
    "deletable": true,
    "editable": true
   },
   "outputs": [],
   "source": [
    "\"\"\"\n",
    "DON'T MODIFY ANYTHING IN THIS CELL\n",
    "\"\"\"\n",
    "import pickle\n",
    "import problem_unittests as tests\n",
    "import helper\n",
    "\n",
    "# Load the Preprocessed Validation data\n",
    "valid_features, valid_labels = pickle.load(open('preprocess_validation.p', mode='rb'))"
   ]
  },
  {
   "cell_type": "markdown",
   "metadata": {
    "deletable": true,
    "editable": true
   },
   "source": [
    "## Build the network\n",
    "For the neural network, you'll build each layer into a function.  Most of the code you've seen has been outside of functions. To test your code more thoroughly, we require that you put each layer in a function.  This allows us to give you better feedback and test for simple mistakes using our unittests before you submit your project.\n",
    "\n",
    ">**Note:** If you're finding it hard to dedicate enough time for this course each week, we've provided a small shortcut to this part of the project. In the next couple of problems, you'll have the option to use classes from the [TensorFlow Layers](https://www.tensorflow.org/api_docs/python/tf/layers) or [TensorFlow Layers (contrib)](https://www.tensorflow.org/api_guides/python/contrib.layers) packages to build each layer, except the layers you build in the \"Convolutional and Max Pooling Layer\" section.  TF Layers is similar to Keras's and TFLearn's abstraction to layers, so it's easy to pickup.\n",
    "\n",
    ">However, if you would like to get the most out of this course, try to solve all the problems _without_ using anything from the TF Layers packages. You **can** still use classes from other packages that happen to have the same name as ones you find in TF Layers! For example, instead of using the TF Layers version of the `conv2d` class, [tf.layers.conv2d](https://www.tensorflow.org/api_docs/python/tf/layers/conv2d), you would want to use the TF Neural Network version of `conv2d`, [tf.nn.conv2d](https://www.tensorflow.org/api_docs/python/tf/nn/conv2d). \n",
    "\n",
    "Let's begin!\n",
    "\n",
    "### Input\n",
    "The neural network needs to read the image data, one-hot encoded labels, and dropout keep probability. Implement the following functions\n",
    "* Implement `neural_net_image_input`\n",
    " * Return a [TF Placeholder](https://www.tensorflow.org/api_docs/python/tf/placeholder)\n",
    " * Set the shape using `image_shape` with batch size set to `None`.\n",
    " * Name the TensorFlow placeholder \"x\" using the TensorFlow `name` parameter in the [TF Placeholder](https://www.tensorflow.org/api_docs/python/tf/placeholder).\n",
    "* Implement `neural_net_label_input`\n",
    " * Return a [TF Placeholder](https://www.tensorflow.org/api_docs/python/tf/placeholder)\n",
    " * Set the shape using `n_classes` with batch size set to `None`.\n",
    " * Name the TensorFlow placeholder \"y\" using the TensorFlow `name` parameter in the [TF Placeholder](https://www.tensorflow.org/api_docs/python/tf/placeholder).\n",
    "* Implement `neural_net_keep_prob_input`\n",
    " * Return a [TF Placeholder](https://www.tensorflow.org/api_docs/python/tf/placeholder) for dropout keep probability.\n",
    " * Name the TensorFlow placeholder \"keep_prob\" using the TensorFlow `name` parameter in the [TF Placeholder](https://www.tensorflow.org/api_docs/python/tf/placeholder).\n",
    "\n",
    "These names will be used at the end of the project to load your saved model.\n",
    "\n",
    "Note: `None` for shapes in TensorFlow allow for a dynamic size."
   ]
  },
  {
   "cell_type": "code",
   "execution_count": 2,
   "metadata": {
    "collapsed": false,
    "deletable": true,
    "editable": true
   },
   "outputs": [
    {
     "name": "stdout",
     "output_type": "stream",
     "text": [
      "Image Input Tests Passed.\n",
      "Label Input Tests Passed.\n",
      "Keep Prob Tests Passed.\n"
     ]
    }
   ],
   "source": [
    "import tensorflow as tf\n",
    "\n",
    "def neural_net_image_input(image_shape):\n",
    "    \"\"\"\n",
    "    Return a Tensor for a batch of image input\n",
    "    : image_shape: Shape of the images\n",
    "    : return: Tensor for image input.\n",
    "    \"\"\"\n",
    "    return tf.placeholder(tf.float32, (None,) + image_shape, name='x')\n",
    "\n",
    "\n",
    "def neural_net_label_input(n_classes):\n",
    "    \"\"\"\n",
    "    Return a Tensor for a batch of label input\n",
    "    : n_classes: Number of classes\n",
    "    : return: Tensor for label input.\n",
    "    \"\"\"\n",
    "    return tf.placeholder(tf.float32, [None, n_classes], name='y')\n",
    "\n",
    "\n",
    "def neural_net_keep_prob_input():\n",
    "    \"\"\"\n",
    "    Return a Tensor for keep probability\n",
    "    : return: Tensor for keep probability.\n",
    "    \"\"\"\n",
    "    return tf.placeholder(tf.float32, name='keep_prob')\n",
    "\n",
    "\"\"\"\n",
    "DON'T MODIFY ANYTHING IN THIS CELL THAT IS BELOW THIS LINE\n",
    "\"\"\"\n",
    "dir()\n",
    "tf.reset_default_graph()\n",
    "tests.test_nn_image_inputs(neural_net_image_input)\n",
    "tests.test_nn_label_inputs(neural_net_label_input)\n",
    "tests.test_nn_keep_prob_inputs(neural_net_keep_prob_input)"
   ]
  },
  {
   "cell_type": "markdown",
   "metadata": {
    "deletable": true,
    "editable": true
   },
   "source": [
    "### Convolution and Max Pooling Layer\n",
    "Convolution layers have a lot of success with images. For this code cell, you should implement the function `conv2d_maxpool` to apply convolution then max pooling:\n",
    "* Create the weight and bias using `conv_ksize`, `conv_num_outputs` and the shape of `x_tensor`.\n",
    "* Apply a convolution to `x_tensor` using weight and `conv_strides`.\n",
    " * We recommend you use same padding, but you're welcome to use any padding.\n",
    "* Add bias\n",
    "* Add a nonlinear activation to the convolution.\n",
    "* Apply Max Pooling using `pool_ksize` and `pool_strides`.\n",
    " * We recommend you use same padding, but you're welcome to use any padding.\n",
    "\n",
    "**Note:** You **can't** use [TensorFlow Layers](https://www.tensorflow.org/api_docs/python/tf/layers) or [TensorFlow Layers (contrib)](https://www.tensorflow.org/api_guides/python/contrib.layers) for **this** layer, but you can still use TensorFlow's [Neural Network](https://www.tensorflow.org/api_docs/python/tf/nn) package. You may still use the shortcut option for all the **other** layers."
   ]
  },
  {
   "cell_type": "code",
   "execution_count": 3,
   "metadata": {
    "collapsed": true,
    "deletable": true,
    "editable": true
   },
   "outputs": [],
   "source": [
    "def get_weights_length(x_tensor, conv_strides, conv_path_size, p=1, rank=2):\n",
    "    \"\"\" calculates patch sizes from patch = -strides*(output + 1) + 2*p + width for padding SAME\"\"\"\n",
    "    weights = []\n",
    "    for d in range(rank):\n",
    "        weights.append(x_tensor.shape[d+1].value + 2*p - conv_strides[d] * (conv_path_size[d] + 1))\n",
    "    \n",
    "    return weights"
   ]
  },
  {
   "cell_type": "code",
   "execution_count": 31,
   "metadata": {
    "collapsed": false,
    "deletable": true,
    "editable": true
   },
   "outputs": [
    {
     "name": "stdout",
     "output_type": "stream",
     "text": [
      "Tests Passed\n"
     ]
    }
   ],
   "source": [
    "def conv2d_maxpool(x_tensor, depth, conv_patch_size, conv_strides, pool_ksize, pool_strides):\n",
    "    \"\"\"\n",
    "    Apply convolution then max pooling to x_tensor\n",
    "    :param x_tensor: TensorFlow Tensor\n",
    "    :param conv_num_outputs: Number of outputs for the convolutional layer\n",
    "    :param conv_ksize: kernal size 2-D Tuple for the convolutional layer\n",
    "    :param conv_strides: Stride 2-D Tuple for convolution\n",
    "    :param pool_ksize: kernal size 2-D Tuple for pool\n",
    "    :param pool_strides: Stride 2-D Tuple for pool\n",
    "    : return: A tensor that represents convolution and max pooling of x_tensor\n",
    "    \"\"\"\n",
    "    weight_width, weight_height = get_weights_length(x_tensor, conv_strides, conv_patch_size)\n",
    "    \n",
    "    F_W = tf.Variable(tf.truncated_normal([weight_width, weight_height, x_tensor.shape[-1].value, depth], stddev=0.05))\n",
    "    F_b = tf.Variable(tf.zeros([depth]))\n",
    "    \n",
    "    x_tensor = tf.nn.conv2d(x_tensor, F_W, strides=[1, conv_strides[0], conv_strides[1], 1], padding='SAME')\n",
    "    x_tensor = tf.nn.bias_add(x_tensor, F_b)\n",
    "    x_tensor = tf.nn.relu(x_tensor)\n",
    "    \n",
    "    x_tensor = tf.nn.max_pool(x_tensor,\n",
    "        ksize=[1, pool_ksize[0], pool_ksize[1], 1],\n",
    "        strides=[1, pool_strides[0], pool_strides[1], 1],\n",
    "        padding='SAME')\n",
    "    return x_tensor\n",
    "\n",
    "\n",
    "\"\"\"\n",
    "DON'T MODIFY ANYTHING IN THIS CELL THAT IS BELOW THIS LINE\n",
    "\"\"\"\n",
    "tests.test_con_pool(conv2d_maxpool)"
   ]
  },
  {
   "cell_type": "markdown",
   "metadata": {
    "deletable": true,
    "editable": true
   },
   "source": [
    "### Flatten Layer\n",
    "Implement the `flatten` function to change the dimension of `x_tensor` from a 4-D tensor to a 2-D tensor.  The output should be the shape (*Batch Size*, *Flattened Image Size*). Shortcut option: you can use classes from the [TensorFlow Layers](https://www.tensorflow.org/api_docs/python/tf/layers) or [TensorFlow Layers (contrib)](https://www.tensorflow.org/api_guides/python/contrib.layers) packages for this layer. For more of a challenge, only use other TensorFlow packages."
   ]
  },
  {
   "cell_type": "code",
   "execution_count": 32,
   "metadata": {
    "collapsed": false,
    "deletable": true,
    "editable": true
   },
   "outputs": [
    {
     "name": "stdout",
     "output_type": "stream",
     "text": [
      "Tests Passed\n"
     ]
    }
   ],
   "source": [
    "def get_tensor_w_connections(tensor):\n",
    "    sizes = tensor.get_shape().as_list()\n",
    "    v = sizes[1]\n",
    "    for t in sizes[2:len(sizes)]:\n",
    "        v *= t\n",
    "    return v\n",
    "\n",
    "def flatten(x_tensor):\n",
    "    \"\"\"\n",
    "    Flatten x_tensor to (Batch Size, Flattened Image Size)\n",
    "    : x_tensor: A tensor of size (Batch Size, ...), where ... are the image dimensions.\n",
    "    : return: A tensor of size (Batch Size, Flattened Image Size).\n",
    "    \"\"\"\n",
    "    return(tf.reshape(x_tensor, [-1, get_tensor_w_connections(x_tensor) ], \n",
    "                      name='flattened_tensor'))\n",
    "\n",
    "\n",
    "\"\"\"\n",
    "DON'T MODIFY ANYTHING IN THIS CELL THAT IS BELOW THIS LINE\n",
    "\"\"\"\n",
    "\n",
    "tests.test_flatten(flatten)"
   ]
  },
  {
   "cell_type": "markdown",
   "metadata": {
    "deletable": true,
    "editable": true
   },
   "source": [
    "### Fully-Connected Layer\n",
    "Implement the `fully_conn` function to apply a fully connected layer to `x_tensor` with the shape (*Batch Size*, *num_outputs*). Shortcut option: you can use classes from the [TensorFlow Layers](https://www.tensorflow.org/api_docs/python/tf/layers) or [TensorFlow Layers (contrib)](https://www.tensorflow.org/api_guides/python/contrib.layers) packages for this layer. For more of a challenge, only use other TensorFlow packages."
   ]
  },
  {
   "cell_type": "code",
   "execution_count": 33,
   "metadata": {
    "collapsed": false,
    "deletable": true,
    "editable": true
   },
   "outputs": [
    {
     "name": "stdout",
     "output_type": "stream",
     "text": [
      "Tests Passed\n"
     ]
    }
   ],
   "source": [
    "def fully_conn(x_tensor, num_outputs):\n",
    "    \"\"\"\n",
    "    Apply a fully connected layer to x_tensor using weight and bias\n",
    "    : x_tensor: A 2-D tensor where the first dimension is batch size.\n",
    "    : num_outputs: The number of output that the new tensor should be.\n",
    "    : return: A 2-D tensor where the second dimension is num_outputs.\n",
    "    \"\"\"\n",
    "    F_W = tf.Variable(tf.truncated_normal([x_tensor.shape[1].value, num_outputs], stddev=0.05))\n",
    "    F_b =  tf.Variable(tf.zeros([num_outputs]))\n",
    "    \n",
    "    return tf.nn.relu(tf.matmul(x_tensor, F_W) + F_b, name='fully_connected')\n",
    "\n",
    "\n",
    "\"\"\"\n",
    "DON'T MODIFY ANYTHING IN THIS CELL THAT IS BELOW THIS LINE\n",
    "\"\"\"\n",
    "tests.test_fully_conn(fully_conn)"
   ]
  },
  {
   "cell_type": "markdown",
   "metadata": {
    "deletable": true,
    "editable": true
   },
   "source": [
    "### Output Layer\n",
    "Implement the `output` function to apply a fully connected layer to `x_tensor` with the shape (*Batch Size*, *num_outputs*). Shortcut option: you can use classes from the [TensorFlow Layers](https://www.tensorflow.org/api_docs/python/tf/layers) or [TensorFlow Layers (contrib)](https://www.tensorflow.org/api_guides/python/contrib.layers) packages for this layer. For more of a challenge, only use other TensorFlow packages.\n",
    "\n",
    "**Note:** Activation, softmax, or cross entropy should **not** be applied to this."
   ]
  },
  {
   "cell_type": "code",
   "execution_count": 34,
   "metadata": {
    "collapsed": false,
    "deletable": true,
    "editable": true
   },
   "outputs": [
    {
     "name": "stdout",
     "output_type": "stream",
     "text": [
      "Tests Passed\n"
     ]
    }
   ],
   "source": [
    "def output(x_tensor, num_outputs):\n",
    "    \"\"\"\n",
    "    Apply a output layer to x_tensor using weight and bias\n",
    "    : x_tensor: A 2-D tensor where the first dimension is batch size.\n",
    "    : num_outputs: The number of output that the new tensor should be.\n",
    "    : return: A 2-D tensor where the second dimension is num_outputs.\n",
    "    \"\"\"\n",
    "    F_W = tf.Variable(tf.truncated_normal([x_tensor.shape[1].value, num_outputs], stddev=0.05))\n",
    "    F_b = tf.Variable(tf.zeros([num_outputs]))\n",
    "\n",
    "    return tf.matmul(x_tensor, F_W) + F_b\n",
    "\n",
    "\n",
    "\"\"\"\n",
    "DON'T MODIFY ANYTHING IN THIS CELL THAT IS BELOW THIS LINE\n",
    "\"\"\"\n",
    "tests.test_output(output)"
   ]
  },
  {
   "cell_type": "markdown",
   "metadata": {
    "deletable": true,
    "editable": true
   },
   "source": [
    "### Create Convolutional Model\n",
    "Implement the function `conv_net` to create a convolutional neural network model. The function takes in a batch of images, `x`, and outputs logits.  Use the layers you created above to create this model:\n",
    "\n",
    "* Apply 1, 2, or 3 Convolution and Max Pool layers\n",
    "* Apply a Flatten Layer\n",
    "* Apply 1, 2, or 3 Fully Connected Layers\n",
    "* Apply an Output Layer\n",
    "* Return the output\n",
    "* Apply [TensorFlow's Dropout](https://www.tensorflow.org/api_docs/python/tf/nn/dropout) to one or more layers in the model using `keep_prob`. "
   ]
  },
  {
   "cell_type": "code",
   "execution_count": 43,
   "metadata": {
    "collapsed": false,
    "deletable": true,
    "editable": true
   },
   "outputs": [
    {
     "name": "stdout",
     "output_type": "stream",
     "text": [
      "Neural Network Built!\n"
     ]
    }
   ],
   "source": [
    "def conv_net(x, keep_prob):\n",
    "    \"\"\"\n",
    "    Create a convolutional neural network model\n",
    "    : x: Placeholder tensor that holds image data.\n",
    "    : keep_prob: Placeholder tensor that hold dropout keep probability.\n",
    "    : return: Tensor that represents logits\n",
    "    \"\"\"\n",
    "    global FW\n",
    "    \n",
    "    x = conv2d_maxpool(x, 32, (5,5), (1,1), (3,3), (2,2))\n",
    "    #x = conv2d_maxpool(x, 32, (5,5), (1,1), (3,3), (2,2))\n",
    "    x = conv2d_maxpool(x, 48, (5,5), (1,1), (3,3), (2,2))\n",
    "    #x = conv2d_maxpool(x, 64, (5,5), (1,1), (3,3), (2,2))\n",
    "    #x = conv2d_maxpool(x, 32, (5,5), (1,1), (3,3), (2,2))\n",
    "\n",
    "    x = flatten(x)\n",
    "    x = tf.nn.dropout(x, keep_prob=keep_prob)\n",
    "    \n",
    "    \n",
    "    x = fully_conn(x, 512)\n",
    "    x = tf.nn.dropout(x, keep_prob=keep_prob)\n",
    "    \n",
    "    x = fully_conn(x, 128)    \n",
    "    x = tf.nn.dropout(x, keep_prob=keep_prob)\n",
    "    \n",
    "    # x = tf.nn.dropout(x, keep_prob=keep_prob)\n",
    "    #x = fully_conn(x, 64)\n",
    "    \n",
    "    out = output(x, 10)\n",
    "    \n",
    "    return out\n",
    "\n",
    "\"\"\"\n",
    "DON'T MODIFY ANYTHING IN THIS CELL THAT IS BELOW THIS LINE\n",
    "\"\"\"\n",
    "\n",
    "##############################\n",
    "## Build the Neural Network ##\n",
    "##############################\n",
    "\n",
    "# Remove previous weights, bias, inputs, etc..\n",
    "tf.reset_default_graph()\n",
    "\n",
    "# Inputs\n",
    "x = neural_net_image_input((32, 32, 3))\n",
    "y = neural_net_label_input(10)\n",
    "keep_prob = neural_net_keep_prob_input()\n",
    "\n",
    "# Model\n",
    "logits = conv_net(x, keep_prob)\n",
    "\n",
    "# Name logits Tensor, so that is can be loaded from disk after training\n",
    "logits = tf.identity(logits, name='logits')\n",
    "\n",
    "# Loss and Optimizer\n",
    "cost = tf.reduce_mean(tf.nn.softmax_cross_entropy_with_logits(logits=logits, labels=y))\n",
    "optimizer = tf.train.AdamOptimizer().minimize(cost)\n",
    "\n",
    "# Accuracy\n",
    "correct_pred = tf.equal(tf.argmax(logits, 1), tf.argmax(y, 1))\n",
    "accuracy = tf.reduce_mean(tf.cast(correct_pred, tf.float32), name='accuracy')\n",
    "\n",
    "tests.test_conv_net(conv_net)"
   ]
  },
  {
   "cell_type": "markdown",
   "metadata": {
    "deletable": true,
    "editable": true
   },
   "source": [
    "## Train the Neural Network\n",
    "### Single Optimization\n",
    "Implement the function `train_neural_network` to do a single optimization.  The optimization should use `optimizer` to optimize in `session` with a `feed_dict` of the following:\n",
    "* `x` for image input\n",
    "* `y` for labels\n",
    "* `keep_prob` for keep probability for dropout\n",
    "\n",
    "This function will be called for each batch, so `tf.global_variables_initializer()` has already been called.\n",
    "\n",
    "Note: Nothing needs to be returned. This function is only optimizing the neural network."
   ]
  },
  {
   "cell_type": "code",
   "execution_count": 44,
   "metadata": {
    "collapsed": false,
    "deletable": true,
    "editable": true
   },
   "outputs": [
    {
     "name": "stdout",
     "output_type": "stream",
     "text": [
      "Tests Passed\n"
     ]
    }
   ],
   "source": [
    "def train_neural_network(session, optimizer, keep_probability, feature_batch, label_batch):\n",
    "    \"\"\"\n",
    "    Optimize the session on a batch of images and labels\n",
    "    : session: Current TensorFlow session\n",
    "    : optimizer: TensorFlow optimizer function\n",
    "    : keep_probability: keep probability\n",
    "    : feature_batch: Batch of Numpy image data\n",
    "    : label_batch: Batch of Numpy label data\n",
    "    \"\"\"\n",
    "    session.run(optimizer, feed_dict={x: feature_batch, \n",
    "                                      y: label_batch, \n",
    "                                      keep_prob: keep_probability})\n",
    "        \n",
    "\n",
    "\n",
    "\"\"\"\n",
    "DON'T MODIFY ANYTHING IN THIS CELL THAT IS BELOW THIS LINE\n",
    "\"\"\"\n",
    "tests.test_train_nn(train_neural_network)"
   ]
  },
  {
   "cell_type": "markdown",
   "metadata": {
    "deletable": true,
    "editable": true
   },
   "source": [
    "### Show Stats\n",
    "Implement the function `print_stats` to print loss and validation accuracy.  Use the global variables `valid_features` and `valid_labels` to calculate validation accuracy.  Use a keep probability of `1.0` to calculate the loss and validation accuracy."
   ]
  },
  {
   "cell_type": "code",
   "execution_count": 45,
   "metadata": {
    "collapsed": false,
    "deletable": true,
    "editable": true
   },
   "outputs": [],
   "source": [
    "def print_stats(session, feature_batch, label_batch, cost, accuracy):\n",
    "    \"\"\"\n",
    "    Print information about loss and validation accuracy\n",
    "    : session: Current TensorFlow session\n",
    "    : feature_batch: Batch of Numpy image data\n",
    "    : label_batch: Batch of Numpy label data\n",
    "    : cost: TensorFlow cost function\n",
    "    : accuracy: TensorFlow accuracy function\n",
    "    \"\"\"\n",
    "    input_feed = {x: feature_batch, \n",
    "                  y: label_batch, \n",
    "                  keep_prob: 1.}\n",
    "    \n",
    "    loss, acc = session.run([cost, accuracy], feed_dict=input_feed)\n",
    "    \n",
    "    print('Loss: {} - Accuracy: {}'.format(loss, acc))"
   ]
  },
  {
   "cell_type": "markdown",
   "metadata": {
    "deletable": true,
    "editable": true
   },
   "source": [
    "### Hyperparameters\n",
    "Tune the following parameters:\n",
    "* Set `epochs` to the number of iterations until the network stops learning or start overfitting\n",
    "* Set `batch_size` to the highest number that your machine has memory for.  Most people set them to common sizes of memory:\n",
    " * 64\n",
    " * 128\n",
    " * 256\n",
    " * ...\n",
    "* Set `keep_probability` to the probability of keeping a node using dropout"
   ]
  },
  {
   "cell_type": "code",
   "execution_count": 48,
   "metadata": {
    "collapsed": true,
    "deletable": true,
    "editable": true
   },
   "outputs": [],
   "source": [
    "# TODO: Tune Parameters\n",
    "epochs = 20\n",
    "batch_size = 64\n",
    "keep_probability =.7"
   ]
  },
  {
   "cell_type": "markdown",
   "metadata": {
    "deletable": true,
    "editable": true
   },
   "source": [
    "### Train on a Single CIFAR-10 Batch\n",
    "Instead of training the neural network on all the CIFAR-10 batches of data, let's use a single batch. This should save time while you iterate on the model to get a better accuracy.  Once the final validation accuracy is 50% or greater, run the model on all the data in the next section."
   ]
  },
  {
   "cell_type": "code",
   "execution_count": 47,
   "metadata": {
    "collapsed": false,
    "deletable": true,
    "editable": true,
    "scrolled": true
   },
   "outputs": [
    {
     "name": "stdout",
     "output_type": "stream",
     "text": [
      "Checking the Training on a Single Batch...\n",
      "Epoch  1, CIFAR-10 Batch 5:  Loss: 1.9740772247314453 - Accuracy: 0.32499998807907104\n",
      "Epoch  2, CIFAR-10 Batch 5:  Loss: 1.8391129970550537 - Accuracy: 0.2750000059604645\n",
      "Epoch  3, CIFAR-10 Batch 5:  Loss: 1.7937636375427246 - Accuracy: 0.30000001192092896\n",
      "Epoch  4, CIFAR-10 Batch 5:  Loss: 1.783163070678711 - Accuracy: 0.4000000059604645\n",
      "Epoch  5, CIFAR-10 Batch 5:  Loss: 1.7327243089675903 - Accuracy: 0.4749999940395355\n",
      "Epoch  6, CIFAR-10 Batch 5:  Loss: 1.6432651281356812 - Accuracy: 0.5\n",
      "Epoch  7, CIFAR-10 Batch 5:  Loss: 1.6814208030700684 - Accuracy: 0.4750000238418579\n",
      "Epoch  8, CIFAR-10 Batch 5:  Loss: 1.5410295724868774 - Accuracy: 0.5249999761581421\n",
      "Epoch  9, CIFAR-10 Batch 5:  Loss: 1.4813361167907715 - Accuracy: 0.5\n",
      "Epoch 10, CIFAR-10 Batch 5:  Loss: 1.4259679317474365 - Accuracy: 0.574999988079071\n"
     ]
    }
   ],
   "source": [
    "\"\"\"\n",
    "DON'T MODIFY ANYTHING IN THIS CELL\n",
    "\"\"\"\n",
    "print('Checking the Training on a Single Batch...')\n",
    "with tf.Session() as sess:\n",
    "#with tf.Session(config=tf.ConfigProto(device_count={'GPU': 0})) as sess:\n",
    "    # Initializing the variables\n",
    "    sess.run(tf.global_variables_initializer())\n",
    "    # Training cycle\n",
    "    for epoch in range(epochs):\n",
    "        batch_i = 5\n",
    "        for batch_features, batch_labels in helper.load_preprocess_training_batch(batch_i, batch_size):\n",
    "            train_neural_network(sess, optimizer, keep_probability, batch_features, batch_labels)\n",
    "        print('Epoch {:>2}, CIFAR-10 Batch {}:  '.format(epoch + 1, batch_i), end='')\n",
    "        print_stats(sess, batch_features, batch_labels, cost, accuracy)"
   ]
  },
  {
   "cell_type": "markdown",
   "metadata": {
    "deletable": true,
    "editable": true
   },
   "source": [
    "### Fully Train the Model\n",
    "Now that you got a good accuracy with a single CIFAR-10 batch, try it with all five batches."
   ]
  },
  {
   "cell_type": "code",
   "execution_count": 49,
   "metadata": {
    "collapsed": false,
    "deletable": true,
    "editable": true
   },
   "outputs": [
    {
     "name": "stdout",
     "output_type": "stream",
     "text": [
      "Training...\n",
      "Epoch  1, CIFAR-10 Batch 1:  Loss: 2.1847922801971436 - Accuracy: 0.15000000596046448\n",
      "Epoch  1, CIFAR-10 Batch 2:  Loss: 1.8335702419281006 - Accuracy: 0.4750000238418579\n",
      "Epoch  1, CIFAR-10 Batch 3:  Loss: 1.7120063304901123 - Accuracy: 0.42500001192092896\n",
      "Epoch  1, CIFAR-10 Batch 4:  Loss: 1.728865385055542 - Accuracy: 0.3500000238418579\n",
      "Epoch  1, CIFAR-10 Batch 5:  Loss: 1.6218743324279785 - Accuracy: 0.44999998807907104\n",
      "Epoch  2, CIFAR-10 Batch 1:  Loss: 1.9049954414367676 - Accuracy: 0.32500001788139343\n",
      "Epoch  2, CIFAR-10 Batch 2:  Loss: 1.6130192279815674 - Accuracy: 0.4750000238418579\n",
      "Epoch  2, CIFAR-10 Batch 3:  Loss: 1.4115556478500366 - Accuracy: 0.4749999940395355\n",
      "Epoch  2, CIFAR-10 Batch 4:  Loss: 1.472590446472168 - Accuracy: 0.5\n",
      "Epoch  2, CIFAR-10 Batch 5:  Loss: 1.5318422317504883 - Accuracy: 0.42500001192092896\n",
      "Epoch  3, CIFAR-10 Batch 1:  Loss: 1.62013840675354 - Accuracy: 0.42499998211860657\n",
      "Epoch  3, CIFAR-10 Batch 2:  Loss: 1.4302748441696167 - Accuracy: 0.5\n",
      "Epoch  3, CIFAR-10 Batch 3:  Loss: 1.3439819812774658 - Accuracy: 0.4749999940395355\n",
      "Epoch  3, CIFAR-10 Batch 4:  Loss: 1.3726445436477661 - Accuracy: 0.44999998807907104\n",
      "Epoch  3, CIFAR-10 Batch 5:  Loss: 1.4768264293670654 - Accuracy: 0.4749999940395355\n",
      "Epoch  4, CIFAR-10 Batch 1:  Loss: 1.3416515588760376 - Accuracy: 0.550000011920929\n",
      "Epoch  4, CIFAR-10 Batch 2:  Loss: 1.2225233316421509 - Accuracy: 0.625\n",
      "Epoch  4, CIFAR-10 Batch 3:  Loss: 1.2549219131469727 - Accuracy: 0.42500001192092896\n",
      "Epoch  4, CIFAR-10 Batch 4:  Loss: 1.272918462753296 - Accuracy: 0.5\n",
      "Epoch  4, CIFAR-10 Batch 5:  Loss: 1.4566149711608887 - Accuracy: 0.44999998807907104\n",
      "Epoch  5, CIFAR-10 Batch 1:  Loss: 1.3451511859893799 - Accuracy: 0.5750000476837158\n",
      "Epoch  5, CIFAR-10 Batch 2:  Loss: 1.2460633516311646 - Accuracy: 0.6000000238418579\n",
      "Epoch  5, CIFAR-10 Batch 3:  Loss: 1.1438318490982056 - Accuracy: 0.5250000357627869\n",
      "Epoch  5, CIFAR-10 Batch 4:  Loss: 1.352232813835144 - Accuracy: 0.550000011920929\n",
      "Epoch  5, CIFAR-10 Batch 5:  Loss: 1.276550054550171 - Accuracy: 0.550000011920929\n",
      "Epoch  6, CIFAR-10 Batch 1:  Loss: 1.2328710556030273 - Accuracy: 0.5750000476837158\n",
      "Epoch  6, CIFAR-10 Batch 2:  Loss: 1.236188530921936 - Accuracy: 0.6000000238418579\n",
      "Epoch  6, CIFAR-10 Batch 3:  Loss: 1.2494421005249023 - Accuracy: 0.550000011920929\n",
      "Epoch  6, CIFAR-10 Batch 4:  Loss: 1.0496822595596313 - Accuracy: 0.6750000715255737\n",
      "Epoch  6, CIFAR-10 Batch 5:  Loss: 1.2310000658035278 - Accuracy: 0.6000000238418579\n",
      "Epoch  7, CIFAR-10 Batch 1:  Loss: 1.3320791721343994 - Accuracy: 0.550000011920929\n",
      "Epoch  7, CIFAR-10 Batch 2:  Loss: 1.1231478452682495 - Accuracy: 0.625\n",
      "Epoch  7, CIFAR-10 Batch 3:  Loss: 1.0193101167678833 - Accuracy: 0.6500000357627869\n",
      "Epoch  7, CIFAR-10 Batch 4:  Loss: 0.9956115484237671 - Accuracy: 0.6499999761581421\n",
      "Epoch  7, CIFAR-10 Batch 5:  Loss: 1.0932797193527222 - Accuracy: 0.7250000238418579\n",
      "Epoch  8, CIFAR-10 Batch 1:  Loss: 1.0707200765609741 - Accuracy: 0.550000011920929\n",
      "Epoch  8, CIFAR-10 Batch 2:  Loss: 0.9685297012329102 - Accuracy: 0.675000011920929\n",
      "Epoch  8, CIFAR-10 Batch 3:  Loss: 0.9518886804580688 - Accuracy: 0.6500000357627869\n",
      "Epoch  8, CIFAR-10 Batch 4:  Loss: 0.9636033177375793 - Accuracy: 0.6749999523162842\n",
      "Epoch  8, CIFAR-10 Batch 5:  Loss: 1.0806537866592407 - Accuracy: 0.675000011920929\n",
      "Epoch  9, CIFAR-10 Batch 1:  Loss: 1.0877152681350708 - Accuracy: 0.625\n",
      "Epoch  9, CIFAR-10 Batch 2:  Loss: 1.0347750186920166 - Accuracy: 0.7000000476837158\n",
      "Epoch  9, CIFAR-10 Batch 3:  Loss: 0.933111846446991 - Accuracy: 0.75\n",
      "Epoch  9, CIFAR-10 Batch 4:  Loss: 0.8645356893539429 - Accuracy: 0.7749999761581421\n",
      "Epoch  9, CIFAR-10 Batch 5:  Loss: 1.10959792137146 - Accuracy: 0.7000000476837158\n",
      "Epoch 10, CIFAR-10 Batch 1:  Loss: 1.0334452390670776 - Accuracy: 0.6500000357627869\n",
      "Epoch 10, CIFAR-10 Batch 2:  Loss: 0.9773731827735901 - Accuracy: 0.6500000357627869\n",
      "Epoch 10, CIFAR-10 Batch 3:  Loss: 0.8347921371459961 - Accuracy: 0.7749999761581421\n",
      "Epoch 10, CIFAR-10 Batch 4:  Loss: 0.9576703310012817 - Accuracy: 0.75\n",
      "Epoch 10, CIFAR-10 Batch 5:  Loss: 1.1480475664138794 - Accuracy: 0.625\n",
      "Epoch 11, CIFAR-10 Batch 1:  Loss: 0.9649204611778259 - Accuracy: 0.6500000357627869\n",
      "Epoch 11, CIFAR-10 Batch 2:  Loss: 0.9155565500259399 - Accuracy: 0.675000011920929\n",
      "Epoch 11, CIFAR-10 Batch 3:  Loss: 0.8278796672821045 - Accuracy: 0.800000011920929\n",
      "Epoch 11, CIFAR-10 Batch 4:  Loss: 0.7349298000335693 - Accuracy: 0.75\n",
      "Epoch 11, CIFAR-10 Batch 5:  Loss: 0.8515512943267822 - Accuracy: 0.7000000476837158\n",
      "Epoch 12, CIFAR-10 Batch 1:  Loss: 1.0333750247955322 - Accuracy: 0.7250000238418579\n",
      "Epoch 12, CIFAR-10 Batch 2:  Loss: 0.8154163360595703 - Accuracy: 0.7250000238418579\n",
      "Epoch 12, CIFAR-10 Batch 3:  Loss: 0.8013166189193726 - Accuracy: 0.7250000238418579\n",
      "Epoch 12, CIFAR-10 Batch 4:  Loss: 0.6740145087242126 - Accuracy: 0.7750000357627869\n",
      "Epoch 12, CIFAR-10 Batch 5:  Loss: 0.8082019090652466 - Accuracy: 0.75\n",
      "Epoch 13, CIFAR-10 Batch 1:  Loss: 0.9467848539352417 - Accuracy: 0.6000000238418579\n",
      "Epoch 13, CIFAR-10 Batch 2:  Loss: 0.782066822052002 - Accuracy: 0.7250000238418579\n",
      "Epoch 13, CIFAR-10 Batch 3:  Loss: 0.7345988154411316 - Accuracy: 0.7750000953674316\n",
      "Epoch 13, CIFAR-10 Batch 4:  Loss: 0.6816517114639282 - Accuracy: 0.8250000476837158\n",
      "Epoch 13, CIFAR-10 Batch 5:  Loss: 0.7513812184333801 - Accuracy: 0.7000000476837158\n",
      "Epoch 14, CIFAR-10 Batch 1:  Loss: 0.9659165143966675 - Accuracy: 0.6000000238418579\n",
      "Epoch 14, CIFAR-10 Batch 2:  Loss: 0.7575443387031555 - Accuracy: 0.7250000238418579\n",
      "Epoch 14, CIFAR-10 Batch 3:  Loss: 0.6980199813842773 - Accuracy: 0.7250000238418579\n",
      "Epoch 14, CIFAR-10 Batch 4:  Loss: 0.6596201658248901 - Accuracy: 0.8250000476837158\n",
      "Epoch 14, CIFAR-10 Batch 5:  Loss: 0.9910048246383667 - Accuracy: 0.6499999761581421\n",
      "Epoch 15, CIFAR-10 Batch 1:  Loss: 0.9332067370414734 - Accuracy: 0.7000000476837158\n",
      "Epoch 15, CIFAR-10 Batch 2:  Loss: 0.712124228477478 - Accuracy: 0.8250000476837158\n",
      "Epoch 15, CIFAR-10 Batch 3:  Loss: 0.6292891502380371 - Accuracy: 0.7250000238418579\n",
      "Epoch 15, CIFAR-10 Batch 4:  Loss: 0.5571925640106201 - Accuracy: 0.8250000476837158\n",
      "Epoch 15, CIFAR-10 Batch 5:  Loss: 0.8550014495849609 - Accuracy: 0.7250000238418579\n",
      "Epoch 16, CIFAR-10 Batch 1:  Loss: 0.910798966884613 - Accuracy: 0.6500000357627869\n",
      "Epoch 16, CIFAR-10 Batch 2:  Loss: 0.711016058921814 - Accuracy: 0.7250000238418579\n",
      "Epoch 16, CIFAR-10 Batch 3:  Loss: 0.6136482357978821 - Accuracy: 0.8999999761581421\n",
      "Epoch 16, CIFAR-10 Batch 4:  Loss: 0.5302214622497559 - Accuracy: 0.8500000238418579\n",
      "Epoch 16, CIFAR-10 Batch 5:  Loss: 0.7122036218643188 - Accuracy: 0.8000000715255737\n",
      "Epoch 17, CIFAR-10 Batch 1:  Loss: 0.8081198334693909 - Accuracy: 0.699999988079071\n",
      "Epoch 17, CIFAR-10 Batch 2:  Loss: 0.6673581004142761 - Accuracy: 0.7999999523162842\n",
      "Epoch 17, CIFAR-10 Batch 3:  Loss: 0.6340160369873047 - Accuracy: 0.824999988079071\n",
      "Epoch 17, CIFAR-10 Batch 4:  Loss: 0.5298805236816406 - Accuracy: 0.824999988079071\n",
      "Epoch 17, CIFAR-10 Batch 5:  Loss: 0.7486681938171387 - Accuracy: 0.7750000357627869\n",
      "Epoch 18, CIFAR-10 Batch 1:  Loss: 0.7916551828384399 - Accuracy: 0.7250000238418579\n",
      "Epoch 18, CIFAR-10 Batch 2:  Loss: 0.6148535013198853 - Accuracy: 0.7750000357627869\n",
      "Epoch 18, CIFAR-10 Batch 3:  Loss: 0.5308479070663452 - Accuracy: 0.8750000596046448\n",
      "Epoch 18, CIFAR-10 Batch 4:  Loss: 0.5326440334320068 - Accuracy: 0.8500000238418579\n",
      "Epoch 18, CIFAR-10 Batch 5:  Loss: 0.6318258047103882 - Accuracy: 0.800000011920929\n",
      "Epoch 19, CIFAR-10 Batch 1:  Loss: 0.70970618724823 - Accuracy: 0.7250000238418579\n",
      "Epoch 19, CIFAR-10 Batch 2:  Loss: 0.6571447849273682 - Accuracy: 0.75\n",
      "Epoch 19, CIFAR-10 Batch 3:  Loss: 0.5193756222724915 - Accuracy: 0.8750000596046448\n",
      "Epoch 19, CIFAR-10 Batch 4:  Loss: 0.45795270800590515 - Accuracy: 0.875\n",
      "Epoch 19, CIFAR-10 Batch 5:  Loss: 0.6066807508468628 - Accuracy: 0.8250000476837158\n",
      "Epoch 20, CIFAR-10 Batch 1:  Loss: 0.6218173503875732 - Accuracy: 0.7500000596046448\n",
      "Epoch 20, CIFAR-10 Batch 2:  Loss: 0.6433809995651245 - Accuracy: 0.824999988079071\n",
      "Epoch 20, CIFAR-10 Batch 3:  Loss: 0.539836585521698 - Accuracy: 0.8999999761581421\n",
      "Epoch 20, CIFAR-10 Batch 4:  Loss: 0.48817309737205505 - Accuracy: 0.8250000476837158\n",
      "Epoch 20, CIFAR-10 Batch 5:  Loss: 0.5205402374267578 - Accuracy: 0.9000000357627869\n"
     ]
    }
   ],
   "source": [
    "\"\"\"\n",
    "DON'T MODIFY ANYTHING IN THIS CELL\n",
    "\"\"\"\n",
    "save_model_path = './image_classification'\n",
    "\n",
    "print('Training...')\n",
    "with tf.Session() as sess:\n",
    "    # Initializing the variables\n",
    "    sess.run(tf.global_variables_initializer())\n",
    "    \n",
    "    # Training cycle\n",
    "    for epoch in range(epochs):\n",
    "        # Loop over all batches\n",
    "        n_batches = 5\n",
    "        for batch_i in range(1, n_batches + 1):\n",
    "            for batch_features, batch_labels in helper.load_preprocess_training_batch(batch_i, batch_size):\n",
    "                train_neural_network(sess, optimizer, keep_probability, batch_features, batch_labels)\n",
    "            print('Epoch {:>2}, CIFAR-10 Batch {}:  '.format(epoch + 1, batch_i), end='')\n",
    "            print_stats(sess, batch_features, batch_labels, cost, accuracy)\n",
    "            \n",
    "    # Save Model\n",
    "    saver = tf.train.Saver()\n",
    "    save_path = saver.save(sess, save_model_path)"
   ]
  },
  {
   "cell_type": "markdown",
   "metadata": {
    "deletable": true,
    "editable": true
   },
   "source": [
    "# Checkpoint\n",
    "The model has been saved to disk.\n",
    "## Test Model\n",
    "Test your model against the test dataset.  This will be your final accuracy. You should have an accuracy greater than 50%. If you don't, keep tweaking the model architecture and parameters."
   ]
  },
  {
   "cell_type": "code",
   "execution_count": 52,
   "metadata": {
    "collapsed": false,
    "deletable": true,
    "editable": true
   },
   "outputs": [
    {
     "name": "stdout",
     "output_type": "stream",
     "text": [
      "INFO:tensorflow:Restoring parameters from ./image_classification\n",
      "Testing Accuracy: 0.5393113057324841\n",
      "\n"
     ]
    },
    {
     "data": {
      "image/png": "[encoded data removed]",
      "text/plain": [
       "<matplotlib.figure.Figure at 0x7f41ac407550>"
      ]
     },
     "metadata": {
      "image/png": {
       "height": 319,
       "width": 355
      }
     },
     "output_type": "display_data"
    }
   ],
   "source": [
    "\"\"\"\n",
    "DON'T MODIFY ANYTHING IN THIS CELL\n",
    "\"\"\"\n",
    "%matplotlib inline\n",
    "%config InlineBackend.figure_format = 'retina'\n",
    "\n",
    "import tensorflow as tf\n",
    "import pickle\n",
    "import helper\n",
    "import random\n",
    "\n",
    "# Set batch size if not already set\n",
    "try:\n",
    "    if batch_size:\n",
    "        pass\n",
    "except NameError:\n",
    "    batch_size = 64\n",
    "\n",
    "save_model_path = './image_classification'\n",
    "n_samples = 4\n",
    "top_n_predictions = 3\n",
    "\n",
    "def test_model():\n",
    "    \"\"\"\n",
    "    Test the saved model against the test dataset\n",
    "    \"\"\"\n",
    "\n",
    "    test_features, test_labels = pickle.load(open('preprocess_test.p', mode='rb'))\n",
    "    loaded_graph = tf.Graph()\n",
    "\n",
    "    with tf.Session(graph=loaded_graph) as sess:\n",
    "        # Load model\n",
    "        loader = tf.train.import_meta_graph(save_model_path + '.meta')\n",
    "        loader.restore(sess, save_model_path)\n",
    "\n",
    "        # Get Tensors from loaded model\n",
    "        loaded_x = loaded_graph.get_tensor_by_name('x:0')\n",
    "        loaded_y = loaded_graph.get_tensor_by_name('y:0')\n",
    "        loaded_keep_prob = loaded_graph.get_tensor_by_name('keep_prob:0')\n",
    "        loaded_logits = loaded_graph.get_tensor_by_name('logits:0')\n",
    "        loaded_acc = loaded_graph.get_tensor_by_name('accuracy:0')\n",
    "        \n",
    "        # Get accuracy in batches for memory limitations\n",
    "        test_batch_acc_total = 0\n",
    "        test_batch_count = 0\n",
    "        \n",
    "        for test_feature_batch, test_label_batch in helper.batch_features_labels(test_features, test_labels, batch_size):\n",
    "            test_batch_acc_total += sess.run(\n",
    "                loaded_acc,\n",
    "                feed_dict={loaded_x: test_feature_batch, loaded_y: test_label_batch, loaded_keep_prob: 1.0})\n",
    "            test_batch_count += 1\n",
    "\n",
    "        print('Testing Accuracy: {}\\n'.format(test_batch_acc_total/test_batch_count))\n",
    "\n",
    "        # Print Random Samples\n",
    "        random_test_features, random_test_labels = tuple(zip(*random.sample(list(zip(test_features, test_labels)), n_samples)))\n",
    "        random_test_predictions = sess.run(\n",
    "            tf.nn.top_k(tf.nn.softmax(loaded_logits), top_n_predictions),\n",
    "            feed_dict={loaded_x: random_test_features, loaded_y: random_test_labels, loaded_keep_prob: 1.0})\n",
    "        helper.display_image_predictions(random_test_features, random_test_labels, random_test_predictions)\n",
    "\n",
    "\n",
    "test_model()"
   ]
  },
  {
   "cell_type": "markdown",
   "metadata": {
    "deletable": true,
    "editable": true
   },
   "source": [
    "## Why 50-80% Accuracy?\n",
    "You might be wondering why you can't get an accuracy any higher. First things first, 50% isn't bad for a simple CNN.  Pure guessing would get you 10% accuracy. However, you might notice people are getting scores [well above 80%](http://rodrigob.github.io/are_we_there_yet/build/classification_datasets_results.html#43494641522d3130).  That's because we haven't taught you all there is to know about neural networks. We still need to cover a few more techniques.\n",
    "## Submitting This Project\n",
    "When submitting this project, make sure to run all the cells before saving the notebook.  Save the notebook file as \"dlnd_image_classification.ipynb\" and save it as a HTML file under \"File\" -> \"Download as\".  Include the \"helper.py\" and \"problem_unittests.py\" files in your submission."
   ]
  }
 ],
 "metadata": {
  "anaconda-cloud": {},
  "kernelspec": {
   "display_name": "Python 3",
   "language": "python",
   "name": "python3"
  },
  "language_info": {
   "codemirror_mode": {
    "name": "ipython",
    "version": 3
   },
   "file_extension": ".py",
   "mimetype": "text/x-python",
   "name": "python",
   "nbconvert_exporter": "python",
   "pygments_lexer": "ipython3",
   "version": "3.6.1"
  }
 },
 "nbformat": 4,
 "nbformat_minor": 0
}
